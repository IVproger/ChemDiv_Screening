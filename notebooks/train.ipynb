{
 "cells": [
  {
   "cell_type": "code",
   "execution_count": 1,
   "metadata": {},
   "outputs": [
    {
     "ename": "",
     "evalue": "",
     "output_type": "error",
     "traceback": [
      "\u001b[1;31mThe kernel failed to start as the Python Environment 'chemdiv-screening-project-ubgft5hy-py3.11 (Python 3.11.10)' is no longer available. Consider selecting another kernel or refreshing the list of Python Environments."
     ]
    }
   ],
   "source": [
    "import polars as pl\n",
    "from catboost import CatBoostRegressor"
   ]
  },
  {
   "cell_type": "code",
   "execution_count": 2,
   "metadata": {},
   "outputs": [],
   "source": [
    "df_final = pl.read_parquet('../data/train/production_ready_train.parquet')"
   ]
  },
  {
   "cell_type": "code",
   "execution_count": 3,
   "metadata": {},
   "outputs": [],
   "source": [
    "# split into train and test\n",
    "X = df_final.drop(\"IC50 (nM)\")\n",
    "y = df_final[\"IC50 (nM)\"]"
   ]
  },
  {
   "cell_type": "code",
   "execution_count": 4,
   "metadata": {},
   "outputs": [],
   "source": [
    "def train_test_split_df(df, seed=42, test_size=0.2):\n",
    "    return df.with_columns(\n",
    "        pl.int_range(pl.len(), dtype=pl.UInt32)\n",
    "        .shuffle(seed=seed)\n",
    "        .gt(pl.len() * test_size)\n",
    "        .alias(\"split\")\n",
    "    ).partition_by(\"split\", include_key=False)\n",
    "\n",
    "\n",
    "def train_test_split(X, y, seed=42, test_size=0.2):\n",
    "    # Convert Series to DataFrame\n",
    "    if isinstance(y, pl.Series):\n",
    "        y = y.to_frame()\n",
    "\n",
    "    (X_train, X_test) = train_test_split_df(X, seed=seed, test_size=test_size)\n",
    "    (y_train, y_test) = train_test_split_df(y, seed=seed, test_size=test_size)\n",
    "\n",
    "    # Convert back to Series if y was originally a Series\n",
    "    if isinstance(y, pl.DataFrame) and y.shape[1] == 1:\n",
    "        y_train = y_train.to_series()\n",
    "        y_test = y_test.to_series()\n",
    "\n",
    "    return (X_train, X_test, y_train, y_test)"
   ]
  },
  {
   "cell_type": "code",
   "execution_count": 5,
   "metadata": {},
   "outputs": [],
   "source": [
    "X_train, X_test, y_train, y_test = train_test_split(X,y,test_size=0.2)"
   ]
  },
  {
   "cell_type": "code",
   "execution_count": 6,
   "metadata": {},
   "outputs": [],
   "source": [
    "X_train = X_train.to_pandas()\n",
    "X_test = X_test.to_pandas()\n",
    "y_train = y_train.to_pandas()\n",
    "y_test = y_test.to_pandas()"
   ]
  },
  {
   "cell_type": "code",
   "execution_count": 7,
   "metadata": {},
   "outputs": [],
   "source": [
    "param_grid = {\n",
    "    'iterations': [1000],                   # Number of trees\n",
    "    'depth': [16],                     # Maximum depth of trees\n",
    "    'learning_rate': [0.01],           # Step size or learning rate\n",
    "    'l2_leaf_reg': [7]                       # L2 regularization coefficient\n",
    "}"
   ]
  },
  {
   "cell_type": "code",
   "execution_count": 8,
   "metadata": {},
   "outputs": [],
   "source": [
    "# Initialize CatBoost regressor with GPU support and snapshot settings\n",
    "baseline_model = CatBoostRegressor(task_type='GPU', devices='0')"
   ]
  },
  {
   "cell_type": "code",
   "execution_count": 9,
   "metadata": {},
   "outputs": [],
   "source": [
    "from sklearn.model_selection import GridSearchCV\n",
    "grid_search = GridSearchCV(estimator=baseline_model, param_grid=param_grid, cv=5, scoring='neg_mean_squared_error', verbose=10)"
   ]
  },
  {
   "cell_type": "code",
   "execution_count": 10,
   "metadata": {},
   "outputs": [
    {
     "name": "stdout",
     "output_type": "stream",
     "text": [
      "Fitting 5 folds for each of 1 candidates, totalling 5 fits\n",
      "[CV 1/5; 1/1] START depth=16, iterations=1000, l2_leaf_reg=7, learning_rate=0.01\n"
     ]
    },
    {
     "ename": "",
     "evalue": "",
     "output_type": "error",
     "traceback": [
      "\u001b[1;31mThe Kernel crashed while executing code in the current cell or a previous cell. \n",
      "\u001b[1;31mPlease review the code in the cell(s) to identify a possible cause of the failure. \n",
      "\u001b[1;31mClick <a href='https://aka.ms/vscodeJupyterKernelCrash'>here</a> for more info. \n",
      "\u001b[1;31mView Jupyter <a href='command:jupyter.viewOutput'>log</a> for further details."
     ]
    }
   ],
   "source": [
    "grid_search.fit(X_train,y_train)"
   ]
  }
 ],
 "metadata": {
  "kernelspec": {
   "display_name": "chemdiv-screening-project-ubgft5hy-py3.11",
   "language": "python",
   "name": "python3"
  },
  "language_info": {
   "codemirror_mode": {
    "name": "ipython",
    "version": 3
   },
   "file_extension": ".py",
   "mimetype": "text/x-python",
   "name": "python",
   "nbconvert_exporter": "python",
   "pygments_lexer": "ipython3",
   "version": "3.11.10"
  }
 },
 "nbformat": 4,
 "nbformat_minor": 2
}
