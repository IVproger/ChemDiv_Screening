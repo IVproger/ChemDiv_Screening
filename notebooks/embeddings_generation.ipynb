{
 "cells": [
  {
   "cell_type": "code",
   "execution_count": 10,
   "metadata": {},
   "outputs": [],
   "source": [
    "import polars as pl\n",
    "df = pl.read_parquet('../data/BindingDB_predprocessed/BindingDB_v0.parquet')"
   ]
  },
  {
   "cell_type": "code",
   "execution_count": 11,
   "metadata": {},
   "outputs": [],
   "source": [
    "dataic50 = df[[\"Ligand SMILES\",\"IC50 (nM)\",\"BindingDB Target Chain Sequence\"]].drop_nulls() "
   ]
  },
  {
   "cell_type": "code",
   "execution_count": 12,
   "metadata": {},
   "outputs": [
    {
     "data": {
      "text/html": [
       "<div><style>\n",
       ".dataframe > thead > tr,\n",
       ".dataframe > tbody > tr {\n",
       "  text-align: right;\n",
       "  white-space: pre-wrap;\n",
       "}\n",
       "</style>\n",
       "<small>shape: (1_687_796, 3)</small><table border=\"1\" class=\"dataframe\"><thead><tr><th>Ligand SMILES</th><th>IC50 (nM)</th><th>BindingDB Target Chain Sequence</th></tr><tr><td>str</td><td>f64</td><td>str</td></tr></thead><tbody><tr><td>&quot;NS(=O)(=O)c1ccc(Nc2cc(OCC3CCCC…</td><td>29000.0</td><td>&quot;MSGRPRTTSFAESCKPVQQPSAFGSMKVSR…</td></tr><tr><td>&quot;NS(=O)(=O)c1ccc(Nc2cc(OC3CCCCC…</td><td>190.0</td><td>&quot;MSGRPRTTSFAESCKPVQQPSAFGSMKVSR…</td></tr><tr><td>&quot;NS(=O)(=O)c1ccc(Nc2cc(NC3CCCCC…</td><td>970.0</td><td>&quot;MSGRPRTTSFAESCKPVQQPSAFGSMKVSR…</td></tr><tr><td>&quot;CCN(CC)c1cc(Nc2ccc(cc2)S(N)(=O…</td><td>11000.0</td><td>&quot;MSGRPRTTSFAESCKPVQQPSAFGSMKVSR…</td></tr><tr><td>&quot;N[C@H]1CC[C@@H](CC1)Nc1cc(Nc2c…</td><td>780.0</td><td>&quot;MSGRPRTTSFAESCKPVQQPSAFGSMKVSR…</td></tr><tr><td>&hellip;</td><td>&hellip;</td><td>&hellip;</td></tr><tr><td>&quot;O[C@@H]1CCCN(C1)C(=O)c1cccc(c1…</td><td>90.0</td><td>&quot;MSSWIRWHGPAMARLWGFCWLVVGFWRAAF…</td></tr><tr><td>&quot;O[C@H]1CCCN(C1)C(=O)c1cccc(c1)…</td><td>118.0</td><td>&quot;MSSWIRWHGPAMARLWGFCWLVVGFWRAAF…</td></tr><tr><td>&quot;COc1nc2ccc(Br)cc2cc1[C@@H](c1c…</td><td>1600.0</td><td>&quot;MPVRRGHVAPQNTFLDTIIRKFEGQSRKFI…</td></tr><tr><td>&quot;COc1ccc(cc1)N(C)c1nc(C)nc2[nH]…</td><td>2600.0</td><td>&quot;CVSASPSTLARLVSRSAMPAGSSTAWNTAF…</td></tr><tr><td>&quot;COc1ccc(\\C=C/c2cc(OC)c(OC)c(OC…</td><td>1000.0</td><td>&quot;CVSASPSTLARLVSRSAMPAGSSTAWNTAF…</td></tr></tbody></table></div>"
      ],
      "text/plain": [
       "shape: (1_687_796, 3)\n",
       "┌─────────────────────────────────┬───────────┬─────────────────────────────────┐\n",
       "│ Ligand SMILES                   ┆ IC50 (nM) ┆ BindingDB Target Chain Sequenc… │\n",
       "│ ---                             ┆ ---       ┆ ---                             │\n",
       "│ str                             ┆ f64       ┆ str                             │\n",
       "╞═════════════════════════════════╪═══════════╪═════════════════════════════════╡\n",
       "│ NS(=O)(=O)c1ccc(Nc2cc(OCC3CCCC… ┆ 29000.0   ┆ MSGRPRTTSFAESCKPVQQPSAFGSMKVSR… │\n",
       "│ NS(=O)(=O)c1ccc(Nc2cc(OC3CCCCC… ┆ 190.0     ┆ MSGRPRTTSFAESCKPVQQPSAFGSMKVSR… │\n",
       "│ NS(=O)(=O)c1ccc(Nc2cc(NC3CCCCC… ┆ 970.0     ┆ MSGRPRTTSFAESCKPVQQPSAFGSMKVSR… │\n",
       "│ CCN(CC)c1cc(Nc2ccc(cc2)S(N)(=O… ┆ 11000.0   ┆ MSGRPRTTSFAESCKPVQQPSAFGSMKVSR… │\n",
       "│ N[C@H]1CC[C@@H](CC1)Nc1cc(Nc2c… ┆ 780.0     ┆ MSGRPRTTSFAESCKPVQQPSAFGSMKVSR… │\n",
       "│ …                               ┆ …         ┆ …                               │\n",
       "│ O[C@@H]1CCCN(C1)C(=O)c1cccc(c1… ┆ 90.0      ┆ MSSWIRWHGPAMARLWGFCWLVVGFWRAAF… │\n",
       "│ O[C@H]1CCCN(C1)C(=O)c1cccc(c1)… ┆ 118.0     ┆ MSSWIRWHGPAMARLWGFCWLVVGFWRAAF… │\n",
       "│ COc1nc2ccc(Br)cc2cc1[C@@H](c1c… ┆ 1600.0    ┆ MPVRRGHVAPQNTFLDTIIRKFEGQSRKFI… │\n",
       "│ COc1ccc(cc1)N(C)c1nc(C)nc2[nH]… ┆ 2600.0    ┆ CVSASPSTLARLVSRSAMPAGSSTAWNTAF… │\n",
       "│ COc1ccc(\\C=C/c2cc(OC)c(OC)c(OC… ┆ 1000.0    ┆ CVSASPSTLARLVSRSAMPAGSSTAWNTAF… │\n",
       "└─────────────────────────────────┴───────────┴─────────────────────────────────┘"
      ]
     },
     "execution_count": 12,
     "metadata": {},
     "output_type": "execute_result"
    }
   ],
   "source": [
    "dataic50 "
   ]
  },
  {
   "cell_type": "code",
   "execution_count": 13,
   "metadata": {},
   "outputs": [],
   "source": [
    "ligand_smiles = dataic50['Ligand SMILES'].to_list()\n",
    "target_chain_sequence = dataic50['BindingDB Target Chain Sequence'].to_list()"
   ]
  },
  {
   "cell_type": "code",
   "execution_count": 14,
   "metadata": {},
   "outputs": [],
   "source": [
    "def create_batches(data, batch_size):\n",
    "    for i in range(0, len(data), batch_size):\n",
    "        yield data[i:i + batch_size]"
   ]
  },
  {
   "cell_type": "code",
   "execution_count": 17,
   "metadata": {},
   "outputs": [],
   "source": [
    "from transformers import BertTokenizerFast, BertModel\n",
    "checkpoint = 'unikei/bert-base-smiles'\n",
    "tokenizer = BertTokenizerFast.from_pretrained(checkpoint)\n",
    "smiles_tokenizer = BertModel.from_pretrained(checkpoint)"
   ]
  },
  {
   "cell_type": "code",
   "execution_count": 18,
   "metadata": {},
   "outputs": [],
   "source": [
    "from transformers import BertModel, BertTokenizer\n",
    "tokenizer_rostlab = BertTokenizer.from_pretrained(\"Rostlab/prot_bert\", do_lower_case=False )\n",
    "model_rostlab = BertModel.from_pretrained(\"Rostlab/prot_bert\")"
   ]
  },
  {
   "cell_type": "code",
   "execution_count": 8,
   "metadata": {},
   "outputs": [],
   "source": [
    "import re\n",
    "# Function to generate embeddings for SMILES\n",
    "def generate_embedding_smiles(smile):\n",
    "    tokens = tokenizer(smile, return_tensors='pt')\n",
    "    embedding = smiles_tokenizer(**tokens)\n",
    "    return embedding[0].detach().numpy().flatten().tolist() \n",
    "\n",
    "# Function to generate embeddings for protein sequences\n",
    "def generate_embedding_protein(sequence):\n",
    "    sequence_Example = re.sub(r\"[UZOB]\", \"X\", sequence)\n",
    "    encoded_input = tokenizer_rostlab(sequence_Example, return_tensors='pt')\n",
    "    embedding = model_rostlab(**encoded_input)\n",
    "    return embedding[0].detach().numpy().flatten().tolist() "
   ]
  },
  {
   "cell_type": "code",
   "execution_count": 15,
   "metadata": {},
   "outputs": [],
   "source": [
    "import pandas as pd\n",
    "import pyarrow as pa\n",
    "import pyarrow.parquet as pq\n",
    "from tqdm import tqdm\n",
    "# Create a Parquet writer schema\n",
    "\n",
    "schema = pa.schema([\n",
    "    ('ID', pa.string()),\n",
    "    ('encoding', pa.list_(pa.float64()))\n",
    "])\n",
    "\n",
    "# Universal function to write embeddings to Parquet\n",
    "def write_embeddings_to_parquet(data, batch_size, parquet_file, generate_embedding_func):\n",
    "    num_newlines = len(data)\n",
    "    total_batches = (num_newlines + batch_size - 1) // batch_size\n",
    "\n",
    "    writer = None\n",
    "\n",
    "    for batch in tqdm(create_batches(data, batch_size), total=total_batches, desc=\"Processing batches\"):\n",
    "        embeddings = [generate_embedding_func(item) for item in batch]\n",
    "        df = pd.DataFrame({'ID': batch, 'encoding': embeddings})\n",
    "        \n",
    "        table = pa.Table.from_pandas(df, schema=schema)\n",
    "        \n",
    "        if writer is None:\n",
    "            writer = pq.ParquetWriter(parquet_file, schema)\n",
    "        \n",
    "        writer.write_table(table)\n",
    "        break\n",
    "\n",
    "    if writer:\n",
    "        writer.close()"
   ]
  },
  {
   "cell_type": "code",
   "execution_count": 7,
   "metadata": {},
   "outputs": [],
   "source": [
    "batch_size = 512\n",
    "parquet_file_smiles = '../data/embeddings/ligand_embeddings.parquet'\n",
    "parquet_file_protein = '../data/embeddings/protein_embeddings.parquet'"
   ]
  },
  {
   "cell_type": "code",
   "execution_count": 19,
   "metadata": {},
   "outputs": [
    {
     "name": "stderr",
     "output_type": "stream",
     "text": [
      "Processing batches:   0%|          | 0/3297 [00:00<?, ?it/s]"
     ]
    },
    {
     "name": "stderr",
     "output_type": "stream",
     "text": [
      "Processing batches:   0%|          | 0/3297 [00:54<?, ?it/s]\n",
      "Processing batches:   0%|          | 0/3297 [01:31<?, ?it/s]\n"
     ]
    }
   ],
   "source": [
    "# Write SMILES embeddings to Parquet\n",
    "write_embeddings_to_parquet(ligand_smiles, batch_size, parquet_file_smiles, generate_embedding_smiles)\n",
    "\n",
    "# Write protein sequence embeddings to Parquet\n",
    "write_embeddings_to_parquet(target_chain_sequence, batch_size, parquet_file_protein, generate_embedding_protein)"
   ]
  },
  {
   "cell_type": "code",
   "execution_count": 20,
   "metadata": {},
   "outputs": [],
   "source": [
    "test = pd.read_parquet(parquet_file_smiles)"
   ]
  },
  {
   "cell_type": "code",
   "execution_count": 22,
   "metadata": {},
   "outputs": [],
   "source": [
    "test_1 = pd.read_parquet(parquet_file_protein)"
   ]
  },
  {
   "cell_type": "code",
   "execution_count": 23,
   "metadata": {},
   "outputs": [
    {
     "data": {
      "text/html": [
       "<div>\n",
       "<style scoped>\n",
       "    .dataframe tbody tr th:only-of-type {\n",
       "        vertical-align: middle;\n",
       "    }\n",
       "\n",
       "    .dataframe tbody tr th {\n",
       "        vertical-align: top;\n",
       "    }\n",
       "\n",
       "    .dataframe thead th {\n",
       "        text-align: right;\n",
       "    }\n",
       "</style>\n",
       "<table border=\"1\" class=\"dataframe\">\n",
       "  <thead>\n",
       "    <tr style=\"text-align: right;\">\n",
       "      <th></th>\n",
       "      <th>ID</th>\n",
       "      <th>encoding</th>\n",
       "    </tr>\n",
       "  </thead>\n",
       "  <tbody>\n",
       "    <tr>\n",
       "      <th>0</th>\n",
       "      <td>MSGRPRTTSFAESCKPVQQPSAFGSMKVSRDKDGSKVTTVVATPGQ...</td>\n",
       "      <td>[-0.10964927077293396, 0.047411590814590454, -...</td>\n",
       "    </tr>\n",
       "    <tr>\n",
       "      <th>1</th>\n",
       "      <td>MSGRPRTTSFAESCKPVQQPSAFGSMKVSRDKDGSKVTTVVATPGQ...</td>\n",
       "      <td>[-0.10964927077293396, 0.047411590814590454, -...</td>\n",
       "    </tr>\n",
       "    <tr>\n",
       "      <th>2</th>\n",
       "      <td>MSGRPRTTSFAESCKPVQQPSAFGSMKVSRDKDGSKVTTVVATPGQ...</td>\n",
       "      <td>[-0.10964927077293396, 0.047411590814590454, -...</td>\n",
       "    </tr>\n",
       "    <tr>\n",
       "      <th>3</th>\n",
       "      <td>MSGRPRTTSFAESCKPVQQPSAFGSMKVSRDKDGSKVTTVVATPGQ...</td>\n",
       "      <td>[-0.10964927077293396, 0.047411590814590454, -...</td>\n",
       "    </tr>\n",
       "    <tr>\n",
       "      <th>4</th>\n",
       "      <td>MSGRPRTTSFAESCKPVQQPSAFGSMKVSRDKDGSKVTTVVATPGQ...</td>\n",
       "      <td>[-0.10964927077293396, 0.047411590814590454, -...</td>\n",
       "    </tr>\n",
       "    <tr>\n",
       "      <th>...</th>\n",
       "      <td>...</td>\n",
       "      <td>...</td>\n",
       "    </tr>\n",
       "    <tr>\n",
       "      <th>507</th>\n",
       "      <td>MWKRSEQMKIKSGKCNMAAAMETEQLGVEIFETADCEENIESQDRP...</td>\n",
       "      <td>[-0.10964927077293396, 0.047411590814590454, -...</td>\n",
       "    </tr>\n",
       "    <tr>\n",
       "      <th>508</th>\n",
       "      <td>MWKRSEQMKIKSGKCNMAAAMETEQLGVEIFETADCEENIESQDRP...</td>\n",
       "      <td>[-0.10964927077293396, 0.047411590814590454, -...</td>\n",
       "    </tr>\n",
       "    <tr>\n",
       "      <th>509</th>\n",
       "      <td>MWKRSEQMKIKSGKCNMAAAMETEQLGVEIFETADCEENIESQDRP...</td>\n",
       "      <td>[-0.10964927077293396, 0.047411590814590454, -...</td>\n",
       "    </tr>\n",
       "    <tr>\n",
       "      <th>510</th>\n",
       "      <td>MGSAPWAPVLLLALGLRGLQAGARRAPDPGFQERFFQQRLDHFNFE...</td>\n",
       "      <td>[-0.10964927077293396, 0.047411590814590454, -...</td>\n",
       "    </tr>\n",
       "    <tr>\n",
       "      <th>511</th>\n",
       "      <td>MGSAPWAPVLLLALGLRGLQAGARRAPDPGFQERFFQQRLDHFNFE...</td>\n",
       "      <td>[-0.10964927077293396, 0.047411590814590454, -...</td>\n",
       "    </tr>\n",
       "  </tbody>\n",
       "</table>\n",
       "<p>512 rows × 2 columns</p>\n",
       "</div>"
      ],
      "text/plain": [
       "                                                    ID  \\\n",
       "0    MSGRPRTTSFAESCKPVQQPSAFGSMKVSRDKDGSKVTTVVATPGQ...   \n",
       "1    MSGRPRTTSFAESCKPVQQPSAFGSMKVSRDKDGSKVTTVVATPGQ...   \n",
       "2    MSGRPRTTSFAESCKPVQQPSAFGSMKVSRDKDGSKVTTVVATPGQ...   \n",
       "3    MSGRPRTTSFAESCKPVQQPSAFGSMKVSRDKDGSKVTTVVATPGQ...   \n",
       "4    MSGRPRTTSFAESCKPVQQPSAFGSMKVSRDKDGSKVTTVVATPGQ...   \n",
       "..                                                 ...   \n",
       "507  MWKRSEQMKIKSGKCNMAAAMETEQLGVEIFETADCEENIESQDRP...   \n",
       "508  MWKRSEQMKIKSGKCNMAAAMETEQLGVEIFETADCEENIESQDRP...   \n",
       "509  MWKRSEQMKIKSGKCNMAAAMETEQLGVEIFETADCEENIESQDRP...   \n",
       "510  MGSAPWAPVLLLALGLRGLQAGARRAPDPGFQERFFQQRLDHFNFE...   \n",
       "511  MGSAPWAPVLLLALGLRGLQAGARRAPDPGFQERFFQQRLDHFNFE...   \n",
       "\n",
       "                                              encoding  \n",
       "0    [-0.10964927077293396, 0.047411590814590454, -...  \n",
       "1    [-0.10964927077293396, 0.047411590814590454, -...  \n",
       "2    [-0.10964927077293396, 0.047411590814590454, -...  \n",
       "3    [-0.10964927077293396, 0.047411590814590454, -...  \n",
       "4    [-0.10964927077293396, 0.047411590814590454, -...  \n",
       "..                                                 ...  \n",
       "507  [-0.10964927077293396, 0.047411590814590454, -...  \n",
       "508  [-0.10964927077293396, 0.047411590814590454, -...  \n",
       "509  [-0.10964927077293396, 0.047411590814590454, -...  \n",
       "510  [-0.10964927077293396, 0.047411590814590454, -...  \n",
       "511  [-0.10964927077293396, 0.047411590814590454, -...  \n",
       "\n",
       "[512 rows x 2 columns]"
      ]
     },
     "execution_count": 23,
     "metadata": {},
     "output_type": "execute_result"
    }
   ],
   "source": [
    "test_1"
   ]
  }
 ],
 "metadata": {
  "kernelspec": {
   "display_name": ".venv",
   "language": "python",
   "name": "python3"
  },
  "language_info": {
   "codemirror_mode": {
    "name": "ipython",
    "version": 3
   },
   "file_extension": ".py",
   "mimetype": "text/x-python",
   "name": "python",
   "nbconvert_exporter": "python",
   "pygments_lexer": "ipython3",
   "version": "3.11.9"
  }
 },
 "nbformat": 4,
 "nbformat_minor": 2
}
