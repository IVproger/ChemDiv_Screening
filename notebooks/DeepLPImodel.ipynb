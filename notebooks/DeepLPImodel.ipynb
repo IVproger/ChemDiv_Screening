{
 "cells": [
  {
   "cell_type": "code",
   "execution_count": 1,
   "metadata": {},
   "outputs": [],
   "source": [
    "import pandas as pd\n",
    "import torch\n",
    "from torch import tensor\n",
    "from torch.utils.data import DataLoader,TensorDataset,SequentialSampler,RandomSampler\n",
    "import numpy as np\n",
    "from sklearn.model_selection import train_test_split\n",
    "\n",
    "RAMDOMSEED = 42"
   ]
  },
  {
   "cell_type": "code",
   "execution_count": 2,
   "metadata": {},
   "outputs": [],
   "source": [
    "train = pd.read_parquet('../data/train/train.parquet')"
   ]
  },
  {
   "cell_type": "code",
   "execution_count": 3,
   "metadata": {},
   "outputs": [],
   "source": [
    "# Apply log transformation to the target variable + conver the measurament into micromolars\n",
    "train['IC50 (nM)'] = np.log1p((train['IC50 (nM)']) / 1000)  "
   ]
  },
  {
   "cell_type": "code",
   "execution_count": 4,
   "metadata": {},
   "outputs": [
    {
     "data": {
      "text/plain": [
       "count    1.687796e+06\n",
       "mean     1.183513e+00\n",
       "std      1.617825e+00\n",
       "min      0.000000e+00\n",
       "25%      2.761517e-02\n",
       "50%      3.442987e-01\n",
       "75%      2.041220e+00\n",
       "max      2.532844e+01\n",
       "Name: IC50 (nM), dtype: float64"
      ]
     },
     "execution_count": 4,
     "metadata": {},
     "output_type": "execute_result"
    }
   ],
   "source": [
    "train['IC50 (nM)'].describe()"
   ]
  },
  {
   "cell_type": "code",
   "execution_count": null,
   "metadata": {},
   "outputs": [],
   "source": [
    "def create_tensor_dataset(df, seq_col, mol_col, target_col, batch_size=512):\n",
    "    \n",
    "    # Make Tensors\n",
    "    seq_tensor = tensor(np.array(df[seq_col].tolist())).to(torch.float32)\n",
    "    mol_tensor = tensor(np.array(df[mol_col].tolist())).to(torch.float32)\n",
    "    target_tensor = tensor(np.array(df[target_col])).to(torch.float32)\n",
    "    \n",
    "    # Create TensorDataset\n",
    "    dataset = TensorDataset(mol_tensor, seq_tensor, target_tensor)\n",
    "    \n",
    "    # Create DataLoader\n",
    "    dataloader = DataLoader(dataset, batch_size=batch_size, shuffle=True)\n",
    "    \n",
    "    return dataloader"
   ]
  },
  {
   "cell_type": "code",
   "execution_count": 5,
   "metadata": {},
   "outputs": [],
   "source": [
    "# Split the dataset into training and validation sets\n",
    "train_df, val_df = train_test_split(train, test_size=0.2, random_state=RAMDOMSEED)"
   ]
  },
  {
   "cell_type": "code",
   "execution_count": 6,
   "metadata": {},
   "outputs": [],
   "source": [
    "# Create DataLoaders for training and validation sets\n",
    "train_dataloader = create_tensor_dataset(train_df, seq_col='proteins', mol_col='smiles', target_col='IC50 (nM)')\n",
    "val_dataloader = create_tensor_dataset(val_df, seq_col='proteins', mol_col='smiles', target_col='IC50 (nM)')"
   ]
  },
  {
   "cell_type": "code",
   "execution_count": 7,
   "metadata": {},
   "outputs": [],
   "source": [
    "step_mol, step_seq, step_label = next(iter(train_dataloader))"
   ]
  },
  {
   "cell_type": "code",
   "execution_count": null,
   "metadata": {},
   "outputs": [],
   "source": [
    "# 768 SMILES  embeddings\n",
    "# 320 proteins embeddings"
   ]
  },
  {
   "cell_type": "code",
   "execution_count": 8,
   "metadata": {},
   "outputs": [],
   "source": [
    "import torch\n",
    "import torch.nn as nn\n",
    "import torch.nn.functional as F\n",
    "\n",
    "class resBlock(nn.Module):\n",
    "    def __init__(self, in_channels, out_channels, use_conv1=False, strides=1, dropout=0.4):\n",
    "        super().__init__()\n",
    "        \n",
    "        self.process = nn.Sequential(\n",
    "            nn.Conv1d(in_channels, out_channels, kernel_size=3, stride=strides, padding=1),\n",
    "            nn.BatchNorm1d(out_channels),\n",
    "            nn.ReLU(inplace=True),\n",
    "            nn.Dropout(p=dropout),\n",
    "            nn.Conv1d(out_channels, out_channels, kernel_size=3, padding=1),\n",
    "            nn.BatchNorm1d(out_channels)\n",
    "        )\n",
    "        \n",
    "        if use_conv1:\n",
    "            self.conv1 = nn.Conv1d(in_channels, out_channels, kernel_size=1, stride=strides)\n",
    "        else:\n",
    "            self.conv1 = None\n",
    "        \n",
    "    def forward(self, x):\n",
    "        left = self.process(x)\n",
    "        right = x if self.conv1 is None else self.conv1(x)\n",
    "        \n",
    "        return F.relu(left + right)\n",
    "\n",
    "class cnnModule(nn.Module):\n",
    "    def __init__(self, in_channel, out_channel, hidden_channel=128, dropout=0.4):\n",
    "        super().__init__()\n",
    "        \n",
    "        self.head = nn.Sequential(\n",
    "            nn.Conv1d(in_channel, hidden_channel, 7, stride=2, padding=3, bias=False),\n",
    "            nn.BatchNorm1d(hidden_channel),\n",
    "            nn.ReLU(inplace=True),\n",
    "            nn.Dropout(p=dropout),\n",
    "            nn.MaxPool1d(2)\n",
    "        )\n",
    "        \n",
    "        self.cnn = nn.Sequential(\n",
    "            resBlock(hidden_channel, out_channel, use_conv1=True, strides=1),\n",
    "            resBlock(out_channel, out_channel, strides=1),\n",
    "            resBlock(out_channel, out_channel, strides=1)\n",
    "        )\n",
    "    \n",
    "    def forward(self, x):\n",
    "        x = self.head(x)\n",
    "        x = self.cnn(x)\n",
    "        \n",
    "        return x\n",
    "\n",
    "class DeepLPI(nn.Module):\n",
    "    def __init__(self, molshape, seqshape, dropout=0.4):\n",
    "        super().__init__()\n",
    "        \n",
    "        self.molshape = molshape\n",
    "        self.seqshape = seqshape\n",
    "\n",
    "        self.molcnn = cnnModule(1, 64)  # Adjusted out_channel\n",
    "        self.seqcnn = cnnModule(1, 64)  # Adjusted out_channel\n",
    "        \n",
    "        self.pool = nn.AvgPool1d(5, stride=3)\n",
    "        self.lstm = nn.LSTM(64, 64, num_layers=3, batch_first=True, bidirectional=True)  # Adjusted hidden size and num_layers\n",
    "        \n",
    "        self.mlp = nn.Sequential(\n",
    "            nn.Linear(round(((molshape + seqshape) / 4 - 2) * 2 / 3) * 64, 4096),  # Adjusted hidden units\n",
    "            nn.BatchNorm1d(4096),\n",
    "            nn.ReLU(),\n",
    "            nn.Dropout(p=dropout),\n",
    "            \n",
    "            nn.Linear(4096, 2048),  # Adjusted hidden units\n",
    "            nn.BatchNorm1d(2048),\n",
    "            nn.ReLU(),\n",
    "            nn.Dropout(p=0.3),\n",
    "            \n",
    "            nn.Linear(2048, 512),  # Adjusted hidden units\n",
    "            nn.BatchNorm1d(512),\n",
    "            nn.ReLU(),\n",
    "            nn.Dropout(p=0.3),\n",
    "            \n",
    "            nn.Linear(512, 1),\n",
    "        )\n",
    "\n",
    "    def forward(self, mol, seq):\n",
    "        mol = self.molcnn(mol.reshape(-1, 1, self.molshape))\n",
    "        seq = self.seqcnn(seq.reshape(-1, 1, self.seqshape))\n",
    "        \n",
    "        # Concatenate along the sequence dimension\n",
    "        x = torch.cat((mol, seq), 2)\n",
    "        x = self.pool(x)\n",
    "        \n",
    "        # Reshape for LSTM\n",
    "        batch_size = x.size(0)\n",
    "        x = x.reshape(batch_size, -1, 64)\n",
    "        x, _ = self.lstm(x)\n",
    "        \n",
    "        # Fully connected layer\n",
    "        x = self.mlp(x.flatten(1))\n",
    "        \n",
    "        x = x.flatten()\n",
    "        \n",
    "        return x\n",
    "\n",
    "# Example usage\n",
    "molshape = 768\n",
    "seqshape = 320\n",
    "model = DeepLPI(molshape, seqshape)"
   ]
  },
  {
   "cell_type": "code",
   "execution_count": 10,
   "metadata": {},
   "outputs": [],
   "source": [
    "def initialize_weights(m):\n",
    "    if isinstance(m, nn.Conv1d):\n",
    "        nn.init.kaiming_uniform_(m.weight.data,nonlinearity='relu')\n",
    "        if m.bias is not None:\n",
    "            nn.init.constant_(m.bias.data, 0)\n",
    "\n",
    "    elif isinstance(m, nn.BatchNorm1d):\n",
    "        nn.init.constant_(m.weight.data, 1)\n",
    "        nn.init.constant_(m.bias.data, 0)\n",
    "\n",
    "    elif isinstance(m, nn.Linear):\n",
    "        nn.init.kaiming_uniform_(m.weight.data)\n",
    "        nn.init.constant_(m.bias.data, 0)"
   ]
  },
  {
   "cell_type": "code",
   "execution_count": 11,
   "metadata": {},
   "outputs": [
    {
     "data": {
      "text/plain": [
       "DeepLPI(\n",
       "  (molcnn): cnnModule(\n",
       "    (head): Sequential(\n",
       "      (0): Conv1d(1, 128, kernel_size=(7,), stride=(2,), padding=(3,), bias=False)\n",
       "      (1): BatchNorm1d(128, eps=1e-05, momentum=0.1, affine=True, track_running_stats=True)\n",
       "      (2): ReLU(inplace=True)\n",
       "      (3): Dropout(p=0.4, inplace=False)\n",
       "      (4): MaxPool1d(kernel_size=2, stride=2, padding=0, dilation=1, ceil_mode=False)\n",
       "    )\n",
       "    (cnn): Sequential(\n",
       "      (0): resBlock(\n",
       "        (process): Sequential(\n",
       "          (0): Conv1d(128, 64, kernel_size=(3,), stride=(1,), padding=(1,))\n",
       "          (1): BatchNorm1d(64, eps=1e-05, momentum=0.1, affine=True, track_running_stats=True)\n",
       "          (2): ReLU(inplace=True)\n",
       "          (3): Dropout(p=0.4, inplace=False)\n",
       "          (4): Conv1d(64, 64, kernel_size=(3,), stride=(1,), padding=(1,))\n",
       "          (5): BatchNorm1d(64, eps=1e-05, momentum=0.1, affine=True, track_running_stats=True)\n",
       "        )\n",
       "        (conv1): Conv1d(128, 64, kernel_size=(1,), stride=(1,))\n",
       "      )\n",
       "      (1): resBlock(\n",
       "        (process): Sequential(\n",
       "          (0): Conv1d(64, 64, kernel_size=(3,), stride=(1,), padding=(1,))\n",
       "          (1): BatchNorm1d(64, eps=1e-05, momentum=0.1, affine=True, track_running_stats=True)\n",
       "          (2): ReLU(inplace=True)\n",
       "          (3): Dropout(p=0.4, inplace=False)\n",
       "          (4): Conv1d(64, 64, kernel_size=(3,), stride=(1,), padding=(1,))\n",
       "          (5): BatchNorm1d(64, eps=1e-05, momentum=0.1, affine=True, track_running_stats=True)\n",
       "        )\n",
       "      )\n",
       "      (2): resBlock(\n",
       "        (process): Sequential(\n",
       "          (0): Conv1d(64, 64, kernel_size=(3,), stride=(1,), padding=(1,))\n",
       "          (1): BatchNorm1d(64, eps=1e-05, momentum=0.1, affine=True, track_running_stats=True)\n",
       "          (2): ReLU(inplace=True)\n",
       "          (3): Dropout(p=0.4, inplace=False)\n",
       "          (4): Conv1d(64, 64, kernel_size=(3,), stride=(1,), padding=(1,))\n",
       "          (5): BatchNorm1d(64, eps=1e-05, momentum=0.1, affine=True, track_running_stats=True)\n",
       "        )\n",
       "      )\n",
       "    )\n",
       "  )\n",
       "  (seqcnn): cnnModule(\n",
       "    (head): Sequential(\n",
       "      (0): Conv1d(1, 128, kernel_size=(7,), stride=(2,), padding=(3,), bias=False)\n",
       "      (1): BatchNorm1d(128, eps=1e-05, momentum=0.1, affine=True, track_running_stats=True)\n",
       "      (2): ReLU(inplace=True)\n",
       "      (3): Dropout(p=0.4, inplace=False)\n",
       "      (4): MaxPool1d(kernel_size=2, stride=2, padding=0, dilation=1, ceil_mode=False)\n",
       "    )\n",
       "    (cnn): Sequential(\n",
       "      (0): resBlock(\n",
       "        (process): Sequential(\n",
       "          (0): Conv1d(128, 64, kernel_size=(3,), stride=(1,), padding=(1,))\n",
       "          (1): BatchNorm1d(64, eps=1e-05, momentum=0.1, affine=True, track_running_stats=True)\n",
       "          (2): ReLU(inplace=True)\n",
       "          (3): Dropout(p=0.4, inplace=False)\n",
       "          (4): Conv1d(64, 64, kernel_size=(3,), stride=(1,), padding=(1,))\n",
       "          (5): BatchNorm1d(64, eps=1e-05, momentum=0.1, affine=True, track_running_stats=True)\n",
       "        )\n",
       "        (conv1): Conv1d(128, 64, kernel_size=(1,), stride=(1,))\n",
       "      )\n",
       "      (1): resBlock(\n",
       "        (process): Sequential(\n",
       "          (0): Conv1d(64, 64, kernel_size=(3,), stride=(1,), padding=(1,))\n",
       "          (1): BatchNorm1d(64, eps=1e-05, momentum=0.1, affine=True, track_running_stats=True)\n",
       "          (2): ReLU(inplace=True)\n",
       "          (3): Dropout(p=0.4, inplace=False)\n",
       "          (4): Conv1d(64, 64, kernel_size=(3,), stride=(1,), padding=(1,))\n",
       "          (5): BatchNorm1d(64, eps=1e-05, momentum=0.1, affine=True, track_running_stats=True)\n",
       "        )\n",
       "      )\n",
       "      (2): resBlock(\n",
       "        (process): Sequential(\n",
       "          (0): Conv1d(64, 64, kernel_size=(3,), stride=(1,), padding=(1,))\n",
       "          (1): BatchNorm1d(64, eps=1e-05, momentum=0.1, affine=True, track_running_stats=True)\n",
       "          (2): ReLU(inplace=True)\n",
       "          (3): Dropout(p=0.4, inplace=False)\n",
       "          (4): Conv1d(64, 64, kernel_size=(3,), stride=(1,), padding=(1,))\n",
       "          (5): BatchNorm1d(64, eps=1e-05, momentum=0.1, affine=True, track_running_stats=True)\n",
       "        )\n",
       "      )\n",
       "    )\n",
       "  )\n",
       "  (pool): AvgPool1d(kernel_size=(5,), stride=(3,), padding=(0,))\n",
       "  (lstm): LSTM(64, 64, num_layers=3, batch_first=True, bidirectional=True)\n",
       "  (mlp): Sequential(\n",
       "    (0): Linear(in_features=11520, out_features=4096, bias=True)\n",
       "    (1): BatchNorm1d(4096, eps=1e-05, momentum=0.1, affine=True, track_running_stats=True)\n",
       "    (2): ReLU()\n",
       "    (3): Dropout(p=0.4, inplace=False)\n",
       "    (4): Linear(in_features=4096, out_features=2048, bias=True)\n",
       "    (5): BatchNorm1d(2048, eps=1e-05, momentum=0.1, affine=True, track_running_stats=True)\n",
       "    (6): ReLU()\n",
       "    (7): Dropout(p=0.3, inplace=False)\n",
       "    (8): Linear(in_features=2048, out_features=512, bias=True)\n",
       "    (9): BatchNorm1d(512, eps=1e-05, momentum=0.1, affine=True, track_running_stats=True)\n",
       "    (10): ReLU()\n",
       "    (11): Dropout(p=0.3, inplace=False)\n",
       "    (12): Linear(in_features=512, out_features=1, bias=True)\n",
       "  )\n",
       ")"
      ]
     },
     "execution_count": 11,
     "metadata": {},
     "output_type": "execute_result"
    }
   ],
   "source": [
    "model.apply(initialize_weights)"
   ]
  },
  {
   "cell_type": "code",
   "execution_count": 12,
   "metadata": {},
   "outputs": [],
   "source": [
    "import torch\n",
    "from tqdm import tqdm\n",
    "\n",
    "def train_loop(model, train_dataloader, val_dataloader, loss_fn, optimizer, scheduler, num_epochs, save_path):\n",
    "    model = model.to(\"cuda\")\n",
    "    \n",
    "    for epoch in range(num_epochs):\n",
    "        model.train()\n",
    "        loop_loss = 0\n",
    "        train_loader = tqdm(train_dataloader, desc=f\"Epoch {epoch+1}/{num_epochs}\", leave=False)\n",
    "        \n",
    "        for step, batch in enumerate(train_loader):\n",
    "            step_mol, step_seq, step_label = batch\n",
    "            step_mol, step_seq, step_label = step_mol.to(\"cuda\"), step_seq.to(\"cuda\"), step_label.to(\"cuda\")\n",
    "            \n",
    "            optimizer.zero_grad()\n",
    "            logits = model(step_mol, step_seq)\n",
    "            loss = loss_fn(logits, step_label)\n",
    "            loss.backward()\n",
    "            optimizer.step()\n",
    "            loop_loss += loss.item()\n",
    "\n",
    "            if step % 20 == 0:\n",
    "                train_loader.set_postfix(loss=loss.item())\n",
    "        \n",
    "        avg_train_loss = loop_loss / len(train_dataloader)\n",
    "        \n",
    "        # Validation step\n",
    "        model.eval()\n",
    "        val_loss = 0\n",
    "        with torch.no_grad():\n",
    "            for step, batch in enumerate(val_dataloader):\n",
    "                step_mol, step_seq, step_label = batch\n",
    "                step_mol, step_seq, step_label = step_mol.to(\"cuda\"), step_seq.to(\"cuda\"), step_label.to(\"cuda\")\n",
    "                \n",
    "                logits = model(step_mol, step_seq)\n",
    "                loss = loss_fn(logits, step_label)\n",
    "                val_loss += loss.item()\n",
    "        \n",
    "        avg_val_loss = val_loss / len(val_dataloader)\n",
    "        \n",
    "        print(f\"Epoch {epoch+1}/{num_epochs} - Train Loss: {avg_train_loss:.4f} - Val Loss: {avg_val_loss:.4f}\")\n",
    "        \n",
    "        # Step the scheduler based on validation loss\n",
    "        scheduler.step(avg_val_loss)\n",
    "        \n",
    "        # Save the model parameters\n",
    "        torch.save(model.state_dict(), save_path)\n",
    "        print(f\"Model parameters saved to {save_path}\")"
   ]
  },
  {
   "cell_type": "code",
   "execution_count": 11,
   "metadata": {},
   "outputs": [],
   "source": [
    "import torch.optim as optim\n",
    "\n",
    "loss_fn = nn.SmoothL1Loss()  # Using Huber Loss \n",
    "optimizer = optim.AdamW(model.parameters(), lr=0.0005, weight_decay=0.0001)\n",
    "scheduler = optim.lr_scheduler.ReduceLROnPlateau(optimizer, 'min', factor=0.8, min_lr=0.00001)"
   ]
  },
  {
   "cell_type": "code",
   "execution_count": 14,
   "metadata": {},
   "outputs": [
    {
     "name": "stderr",
     "output_type": "stream",
     "text": [
      "                                                                           \r"
     ]
    },
    {
     "name": "stdout",
     "output_type": "stream",
     "text": [
      "Epoch 1/10 - Train Loss: 0.6189 - Val Loss: 0.5237\n",
      "Model parameters saved to ../models/candidates/deeplpi_model.pth\n"
     ]
    },
    {
     "name": "stderr",
     "output_type": "stream",
     "text": [
      "                                                                           \r"
     ]
    },
    {
     "name": "stdout",
     "output_type": "stream",
     "text": [
      "Epoch 2/10 - Train Loss: 0.5079 - Val Loss: 0.4884\n",
      "Model parameters saved to ../models/candidates/deeplpi_model.pth\n"
     ]
    },
    {
     "name": "stderr",
     "output_type": "stream",
     "text": [
      "                                                                           \r"
     ]
    },
    {
     "name": "stdout",
     "output_type": "stream",
     "text": [
      "Epoch 3/10 - Train Loss: 0.4596 - Val Loss: 0.4314\n",
      "Model parameters saved to ../models/candidates/deeplpi_model.pth\n"
     ]
    },
    {
     "name": "stderr",
     "output_type": "stream",
     "text": [
      "                                                                           \r"
     ]
    },
    {
     "name": "stdout",
     "output_type": "stream",
     "text": [
      "Epoch 4/10 - Train Loss: 0.4241 - Val Loss: 0.4113\n",
      "Model parameters saved to ../models/candidates/deeplpi_model.pth\n"
     ]
    },
    {
     "name": "stderr",
     "output_type": "stream",
     "text": [
      "                                                                           \r"
     ]
    },
    {
     "name": "stdout",
     "output_type": "stream",
     "text": [
      "Epoch 5/10 - Train Loss: 0.3930 - Val Loss: 0.3910\n",
      "Model parameters saved to ../models/candidates/deeplpi_model.pth\n"
     ]
    },
    {
     "name": "stderr",
     "output_type": "stream",
     "text": [
      "                                                                           \r"
     ]
    },
    {
     "name": "stdout",
     "output_type": "stream",
     "text": [
      "Epoch 6/10 - Train Loss: 0.3652 - Val Loss: 0.3778\n",
      "Model parameters saved to ../models/candidates/deeplpi_model.pth\n"
     ]
    },
    {
     "name": "stderr",
     "output_type": "stream",
     "text": [
      "                                                                           \r"
     ]
    },
    {
     "name": "stdout",
     "output_type": "stream",
     "text": [
      "Epoch 7/10 - Train Loss: 0.3388 - Val Loss: 0.3488\n",
      "Model parameters saved to ../models/candidates/deeplpi_model.pth\n"
     ]
    },
    {
     "name": "stderr",
     "output_type": "stream",
     "text": [
      "                                                                           \r"
     ]
    },
    {
     "name": "stdout",
     "output_type": "stream",
     "text": [
      "Epoch 8/10 - Train Loss: 0.3166 - Val Loss: 0.3373\n",
      "Model parameters saved to ../models/candidates/deeplpi_model.pth\n"
     ]
    },
    {
     "name": "stderr",
     "output_type": "stream",
     "text": [
      "                                                                           \r"
     ]
    },
    {
     "name": "stdout",
     "output_type": "stream",
     "text": [
      "Epoch 9/10 - Train Loss: 0.2950 - Val Loss: 0.3271\n",
      "Model parameters saved to ../models/candidates/deeplpi_model.pth\n"
     ]
    },
    {
     "name": "stderr",
     "output_type": "stream",
     "text": [
      "                                                                            \r"
     ]
    },
    {
     "name": "stdout",
     "output_type": "stream",
     "text": [
      "Epoch 10/10 - Train Loss: 0.2762 - Val Loss: 0.3136\n",
      "Model parameters saved to ../models/candidates/deeplpi_model.pth\n"
     ]
    }
   ],
   "source": [
    "num_epochs = 10\n",
    "save_path = \"../models/candidates/deeplpi_model.pth\"\n",
    "train_loop(model, train_dataloader, val_dataloader, loss_fn, optimizer, scheduler, num_epochs, save_path)"
   ]
  },
  {
   "cell_type": "code",
   "execution_count": 9,
   "metadata": {},
   "outputs": [],
   "source": [
    "# Load the model parameters\n",
    "save_path = \"../models/production/deeplpi_model_v2.pth\"\n",
    "model = DeepLPI(molshape, seqshape)\n",
    "model.load_state_dict(torch.load(save_path))\n",
    "model = model.to(\"cuda\")"
   ]
  },
  {
   "cell_type": "code",
   "execution_count": 12,
   "metadata": {},
   "outputs": [
    {
     "name": "stdout",
     "output_type": "stream",
     "text": [
      "torch.Size([1024, 768])\n",
      "torch.Size([1024, 320])\n",
      "torch.Size([1024, 768])\n",
      "torch.Size([1024, 320])\n",
      "torch.Size([1024, 768])\n",
      "torch.Size([1024, 320])\n",
      "torch.Size([1024, 768])\n",
      "torch.Size([1024, 320])\n",
      "torch.Size([1024, 768])\n",
      "torch.Size([1024, 320])\n",
      "torch.Size([1024, 768])\n",
      "torch.Size([1024, 320])\n",
      "torch.Size([1024, 768])\n",
      "torch.Size([1024, 320])\n",
      "torch.Size([1024, 768])\n",
      "torch.Size([1024, 320])\n",
      "torch.Size([1024, 768])\n",
      "torch.Size([1024, 320])\n",
      "torch.Size([1024, 768])\n",
      "torch.Size([1024, 320])\n",
      "torch.Size([1024, 768])\n",
      "torch.Size([1024, 320])\n",
      "torch.Size([1024, 768])\n",
      "torch.Size([1024, 320])\n",
      "torch.Size([1024, 768])\n",
      "torch.Size([1024, 320])\n",
      "torch.Size([1024, 768])\n",
      "torch.Size([1024, 320])\n",
      "torch.Size([1024, 768])\n",
      "torch.Size([1024, 320])\n",
      "torch.Size([1024, 768])\n",
      "torch.Size([1024, 320])\n",
      "torch.Size([1024, 768])\n",
      "torch.Size([1024, 320])\n",
      "torch.Size([1024, 768])\n",
      "torch.Size([1024, 320])\n",
      "torch.Size([1024, 768])\n",
      "torch.Size([1024, 320])\n",
      "torch.Size([1024, 768])\n",
      "torch.Size([1024, 320])\n",
      "torch.Size([1024, 768])\n",
      "torch.Size([1024, 320])\n",
      "torch.Size([1024, 768])\n",
      "torch.Size([1024, 320])\n",
      "torch.Size([1024, 768])\n",
      "torch.Size([1024, 320])\n",
      "torch.Size([1024, 768])\n",
      "torch.Size([1024, 320])\n",
      "torch.Size([1024, 768])\n",
      "torch.Size([1024, 320])\n",
      "torch.Size([1024, 768])\n",
      "torch.Size([1024, 320])\n",
      "torch.Size([1024, 768])\n",
      "torch.Size([1024, 320])\n",
      "torch.Size([1024, 768])\n",
      "torch.Size([1024, 320])\n",
      "torch.Size([1024, 768])\n",
      "torch.Size([1024, 320])\n",
      "torch.Size([1024, 768])\n",
      "torch.Size([1024, 320])\n",
      "torch.Size([1024, 768])\n",
      "torch.Size([1024, 320])\n",
      "torch.Size([1024, 768])\n",
      "torch.Size([1024, 320])\n"
     ]
    },
    {
     "ename": "KeyboardInterrupt",
     "evalue": "",
     "output_type": "error",
     "traceback": [
      "\u001b[0;31m---------------------------------------------------------------------------\u001b[0m",
      "\u001b[0;31mKeyboardInterrupt\u001b[0m                         Traceback (most recent call last)",
      "Cell \u001b[0;32mIn[12], line 33\u001b[0m\n\u001b[1;32m     29\u001b[0m     \u001b[38;5;28mprint\u001b[39m(\u001b[38;5;124mf\u001b[39m\u001b[38;5;124m\"\u001b[39m\u001b[38;5;124mValidation Loss: \u001b[39m\u001b[38;5;132;01m{\u001b[39;00mavg_val_loss\u001b[38;5;132;01m:\u001b[39;00m\u001b[38;5;124m.4f\u001b[39m\u001b[38;5;132;01m}\u001b[39;00m\u001b[38;5;124m - R²: \u001b[39m\u001b[38;5;132;01m{\u001b[39;00mr2\u001b[38;5;132;01m:\u001b[39;00m\u001b[38;5;124m.4f\u001b[39m\u001b[38;5;132;01m}\u001b[39;00m\u001b[38;5;124m\"\u001b[39m)\n\u001b[1;32m     31\u001b[0m     \u001b[38;5;28;01mreturn\u001b[39;00m avg_val_loss, r2\n\u001b[0;32m---> 33\u001b[0m avg_val_loss, r2 \u001b[38;5;241m=\u001b[39m \u001b[43mvalidate_model\u001b[49m\u001b[43m(\u001b[49m\u001b[43mmodel\u001b[49m\u001b[43m,\u001b[49m\u001b[43m \u001b[49m\u001b[43mval_dataloader\u001b[49m\u001b[43m,\u001b[49m\u001b[43m \u001b[49m\u001b[43mloss_fn\u001b[49m\u001b[43m)\u001b[49m\n",
      "Cell \u001b[0;32mIn[12], line 19\u001b[0m, in \u001b[0;36mvalidate_model\u001b[0;34m(model, val_dataloader, loss_fn)\u001b[0m\n\u001b[1;32m     17\u001b[0m logits \u001b[38;5;241m=\u001b[39m model(step_mol, step_seq)\n\u001b[1;32m     18\u001b[0m loss \u001b[38;5;241m=\u001b[39m loss_fn(logits, step_label)\n\u001b[0;32m---> 19\u001b[0m val_loss \u001b[38;5;241m+\u001b[39m\u001b[38;5;241m=\u001b[39m \u001b[43mloss\u001b[49m\u001b[38;5;241;43m.\u001b[39;49m\u001b[43mitem\u001b[49m\u001b[43m(\u001b[49m\u001b[43m)\u001b[49m\n\u001b[1;32m     21\u001b[0m all_labels\u001b[38;5;241m.\u001b[39mextend(step_label\u001b[38;5;241m.\u001b[39mcpu()\u001b[38;5;241m.\u001b[39mnumpy())\n\u001b[1;32m     22\u001b[0m all_predictions\u001b[38;5;241m.\u001b[39mextend(logits\u001b[38;5;241m.\u001b[39mcpu()\u001b[38;5;241m.\u001b[39mnumpy())\n",
      "\u001b[0;31mKeyboardInterrupt\u001b[0m: "
     ]
    }
   ],
   "source": [
    "import torch\n",
    "from sklearn.metrics import r2_score\n",
    "\n",
    "def validate_model(model, val_dataloader, loss_fn):\n",
    "    model.eval()\n",
    "    val_loss = 0\n",
    "    all_labels = []\n",
    "    all_predictions = []\n",
    "    \n",
    "    with torch.no_grad():\n",
    "        for step, batch in enumerate(val_dataloader):\n",
    "            step_mol, step_seq, step_label = batch\n",
    "            step_mol, step_seq, step_label = step_mol.to(\"cuda\"), step_seq.to(\"cuda\"), step_label.to(\"cuda\")\n",
    "            \n",
    "            print(step_mol.shape)\n",
    "            print(step_seq.shape)\n",
    "            logits = model(step_mol, step_seq)\n",
    "            loss = loss_fn(logits, step_label)\n",
    "            val_loss += loss.item()\n",
    "            \n",
    "            all_labels.extend(step_label.cpu().numpy())\n",
    "            all_predictions.extend(logits.cpu().numpy())\n",
    "    \n",
    "    avg_val_loss = val_loss / len(val_dataloader)\n",
    "    \n",
    "    # Compute R² metric\n",
    "    r2 = r2_score(all_labels, all_predictions)\n",
    "    \n",
    "    print(f\"Validation Loss: {avg_val_loss:.4f} - R²: {r2:.4f}\")\n",
    "    \n",
    "    return avg_val_loss, r2\n",
    "\n",
    "avg_val_loss, r2 = validate_model(model, val_dataloader, loss_fn)"
   ]
  },
  {
   "cell_type": "code",
   "execution_count": null,
   "metadata": {},
   "outputs": [],
   "source": [
    "# Validation Loss: 0.4063 - R²: 0.4774 version 1\n",
    "# Validation Loss: 0.3160 - R²: 0.6218 version 2\n",
    "# Validation Loss: 0.3205 - R²: 0.6154 version 3\n",
    "# Add Normalization into embeddings ??? Validation Loss: 0.3135 - R²: 0.6276"
   ]
  }
 ],
 "metadata": {
  "kernelspec": {
   "display_name": "chemdiv-screening-project-ubgft5hy-py3.11",
   "language": "python",
   "name": "python3"
  },
  "language_info": {
   "codemirror_mode": {
    "name": "ipython",
    "version": 3
   },
   "file_extension": ".py",
   "mimetype": "text/x-python",
   "name": "python",
   "nbconvert_exporter": "python",
   "pygments_lexer": "ipython3",
   "version": "3.11.10"
  }
 },
 "nbformat": 4,
 "nbformat_minor": 2
}
