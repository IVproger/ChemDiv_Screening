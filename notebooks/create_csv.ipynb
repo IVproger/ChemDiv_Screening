{
 "cells": [
  {
   "cell_type": "code",
   "execution_count": 4,
   "metadata": {},
   "outputs": [],
   "source": [
    "import numpy as np\n",
    "from rdkit import Chem\n",
    "from rdkit.Chem import AllChem"
   ]
  },
  {
   "cell_type": "code",
   "execution_count": 10,
   "metadata": {},
   "outputs": [],
   "source": [
    "def read_sdf(sdf_file_path):\n",
    "    suppl = Chem.SDMolSupplier(sdf_file_path)\n",
    "    molecules = []\n",
    "    \n",
    "    for idx, mol in enumerate(suppl):\n",
    "        if mol is None:\n",
    "            continue\n",
    "        smiles = Chem.MolToSmiles(mol)\n",
    "        metadata = mol.GetPropsAsDict()\n",
    "        molecules.append({\n",
    "            'index': idx,\n",
    "            'smiles': smiles,\n",
    "            'metadata': metadata\n",
    "        })\n",
    "    \n",
    "    return molecules"
   ]
  },
  {
   "cell_type": "code",
   "execution_count": 11,
   "metadata": {},
   "outputs": [
    {
     "name": "stderr",
     "output_type": "stream",
     "text": [
      "[18:39:03] Warning: conflicting stereochemistry at atom 5 ignored. by rule 1a.\n",
      "[18:39:03] Warning: conflicting stereochemistry at atom 5 ignored. by rule 1a.\n",
      "[18:39:03] Warning: conflicting stereochemistry at atom 16 ignored. by rule 1a.\n",
      "[18:39:03] Warning: conflicting stereochemistry at atom 16 ignored. by rule 1a.\n",
      "[18:39:54] Explicit valence for atom # 1 B, 5, is greater than permitted\n",
      "[18:39:54] ERROR: Could not sanitize molecule ending on line 34094083\n",
      "[18:39:54] ERROR: Explicit valence for atom # 1 B, 5, is greater than permitted\n",
      "[18:40:09] Explicit valence for atom # 2 B, 5, is greater than permitted\n",
      "[18:40:09] ERROR: Could not sanitize molecule ending on line 37735146\n",
      "[18:40:09] ERROR: Explicit valence for atom # 2 B, 5, is greater than permitted\n",
      "[18:40:10] Explicit valence for atom # 1 B, 5, is greater than permitted\n",
      "[18:40:10] ERROR: Could not sanitize molecule ending on line 37844463\n",
      "[18:40:10] ERROR: Explicit valence for atom # 1 B, 5, is greater than permitted\n",
      "[18:42:03] Explicit valence for atom # 0 C, 6, is greater than permitted\n",
      "[18:42:03] ERROR: Could not sanitize molecule ending on line 64433972\n",
      "[18:42:03] ERROR: Explicit valence for atom # 0 C, 6, is greater than permitted\n",
      "[18:42:11] Explicit valence for atom # 0 C, 6, is greater than permitted\n",
      "[18:42:11] ERROR: Could not sanitize molecule ending on line 66452007\n",
      "[18:42:11] ERROR: Explicit valence for atom # 0 C, 6, is greater than permitted\n",
      "[18:43:47] Explicit valence for atom # 0 B, 5, is greater than permitted\n",
      "[18:43:47] ERROR: Could not sanitize molecule ending on line 89092447\n",
      "[18:43:47] ERROR: Explicit valence for atom # 0 B, 5, is greater than permitted\n",
      "[18:43:49] Warning: conflicting stereochemistry at atom 5 ignored. by rule 2b.\n",
      "[18:43:49] Warning: conflicting stereochemistry at atom 7 ignored. by rule 1a.\n",
      "[18:43:49] Warning: conflicting stereochemistry at atom 7 ignored. by rule 1a.\n"
     ]
    }
   ],
   "source": [
    "# Example usage\n",
    "sdf_file_path = '../data/screening_data/screening.sdf'\n",
    "molecules = read_sdf(sdf_file_path)"
   ]
  },
  {
   "cell_type": "code",
   "execution_count": null,
   "metadata": {},
   "outputs": [],
   "source": [
    "\"~/Screening_project/WELP-PLAPT/105M_FPT.json\"\n",
    "\"~/Screening_project/WELP-PLAPT/6VKV_GAG.json\"\n",
    "\"~/Screening_project/WELP-PLAPT/7L5E_XPO1.json\"\n",
    "\"~/Screening_project/WELP-PLAPT/8QYR_MYH7.json\""
   ]
  },
  {
   "cell_type": "code",
   "execution_count": 12,
   "metadata": {},
   "outputs": [],
   "source": [
    "import pandas as pd"
   ]
  },
  {
   "cell_type": "code",
   "execution_count": 13,
   "metadata": {},
   "outputs": [],
   "source": [
    "df = pd.DataFrame(molecules)"
   ]
  },
  {
   "cell_type": "code",
   "execution_count": 15,
   "metadata": {},
   "outputs": [],
   "source": [
    "# Set the 'index' column as the index of the DataFrame\n",
    "df.set_index('index', inplace=True)"
   ]
  },
  {
   "cell_type": "code",
   "execution_count": null,
   "metadata": {},
   "outputs": [
    {
     "data": {
      "text/html": [
       "<div>\n",
       "<style scoped>\n",
       "    .dataframe tbody tr th:only-of-type {\n",
       "        vertical-align: middle;\n",
       "    }\n",
       "\n",
       "    .dataframe tbody tr th {\n",
       "        vertical-align: top;\n",
       "    }\n",
       "\n",
       "    .dataframe thead th {\n",
       "        text-align: right;\n",
       "    }\n",
       "</style>\n",
       "<table border=\"1\" class=\"dataframe\">\n",
       "  <thead>\n",
       "    <tr style=\"text-align: right;\">\n",
       "      <th></th>\n",
       "      <th>smiles</th>\n",
       "      <th>metadata</th>\n",
       "    </tr>\n",
       "    <tr>\n",
       "      <th>index</th>\n",
       "      <th></th>\n",
       "      <th></th>\n",
       "    </tr>\n",
       "  </thead>\n",
       "  <tbody>\n",
       "    <tr>\n",
       "      <th>0</th>\n",
       "      <td>CCCOc1ccc(C(O)(CC)C(CN2CCOCC2)c2ccccc2)cc1</td>\n",
       "      <td>{'Brutto-formula': 'C24H33NO3', 'Molecular wei...</td>\n",
       "    </tr>\n",
       "    <tr>\n",
       "      <th>1</th>\n",
       "      <td>Cc1cccc(N2C(=O)C(Cl)=C(Nc3ccccc3O)C2=O)c1C</td>\n",
       "      <td>{'Brutto-formula': 'C18H15ClN2O3', 'Molecular ...</td>\n",
       "    </tr>\n",
       "    <tr>\n",
       "      <th>2</th>\n",
       "      <td>O=C(Cc1cccs1)Nc1cccc(-c2nc3cc4ccccc4cc3[nH]2)c1</td>\n",
       "      <td>{'Brutto-formula': 'C23H17N3OS', 'Molecular we...</td>\n",
       "    </tr>\n",
       "    <tr>\n",
       "      <th>3</th>\n",
       "      <td>Cn1ncc(N2CCC(C(=O)Nc3cccc(-c4nc5ccccc5[nH]4)c3...</td>\n",
       "      <td>{'Brutto-formula': 'C24H24N6O2', 'Molecular we...</td>\n",
       "    </tr>\n",
       "    <tr>\n",
       "      <th>4</th>\n",
       "      <td>CCOC(=O)c1c(N2C(=O)C=CC2=O)sc2c1CCCC2</td>\n",
       "      <td>{'Brutto-formula': 'C15H15NO4S', 'Molecular we...</td>\n",
       "    </tr>\n",
       "    <tr>\n",
       "      <th>...</th>\n",
       "      <td>...</td>\n",
       "      <td>...</td>\n",
       "    </tr>\n",
       "    <tr>\n",
       "      <th>1269944</th>\n",
       "      <td>CCCN(C)c1ccc2ncc(=O)n(C)c2n1</td>\n",
       "      <td>{'Brutto-formula': 'C12H16N4O', 'Molecular wei...</td>\n",
       "    </tr>\n",
       "    <tr>\n",
       "      <th>1269945</th>\n",
       "      <td>CN(C)C(=O)c1cc(N(C)C)nc2ccccc12</td>\n",
       "      <td>{'Brutto-formula': 'C14H17N3O', 'Molecular wei...</td>\n",
       "    </tr>\n",
       "    <tr>\n",
       "      <th>1269946</th>\n",
       "      <td>CCN1CCN(C(=O)c2cc(C(C)C)n[nH]2)CC1</td>\n",
       "      <td>{'Brutto-formula': 'C13H22N4O', 'Molecular wei...</td>\n",
       "    </tr>\n",
       "    <tr>\n",
       "      <th>1269947</th>\n",
       "      <td>O=C(c1ccccc1)N1CC(c2ncco2)C2(CCN(CC3CCCCC3)CC2)C1</td>\n",
       "      <td>{'Brutto-formula': 'C25H33N3O2', 'Molecular we...</td>\n",
       "    </tr>\n",
       "    <tr>\n",
       "      <th>1269948</th>\n",
       "      <td>Cc1ncc(C(=O)NCc2ccccc2)c(C2CCN(CCc3cccnc3)CC2)n1</td>\n",
       "      <td>{'Brutto-formula': 'C25H29N5O', 'Molecular wei...</td>\n",
       "    </tr>\n",
       "  </tbody>\n",
       "</table>\n",
       "<p>1269943 rows × 2 columns</p>\n",
       "</div>"
      ],
      "text/plain": [
       "                                                    smiles   \n",
       "index                                                        \n",
       "0               CCCOc1ccc(C(O)(CC)C(CN2CCOCC2)c2ccccc2)cc1  \\\n",
       "1               Cc1cccc(N2C(=O)C(Cl)=C(Nc3ccccc3O)C2=O)c1C   \n",
       "2          O=C(Cc1cccs1)Nc1cccc(-c2nc3cc4ccccc4cc3[nH]2)c1   \n",
       "3        Cn1ncc(N2CCC(C(=O)Nc3cccc(-c4nc5ccccc5[nH]4)c3...   \n",
       "4                    CCOC(=O)c1c(N2C(=O)C=CC2=O)sc2c1CCCC2   \n",
       "...                                                    ...   \n",
       "1269944                       CCCN(C)c1ccc2ncc(=O)n(C)c2n1   \n",
       "1269945                    CN(C)C(=O)c1cc(N(C)C)nc2ccccc12   \n",
       "1269946                 CCN1CCN(C(=O)c2cc(C(C)C)n[nH]2)CC1   \n",
       "1269947  O=C(c1ccccc1)N1CC(c2ncco2)C2(CCN(CC3CCCCC3)CC2)C1   \n",
       "1269948   Cc1ncc(C(=O)NCc2ccccc2)c(C2CCN(CCc3cccnc3)CC2)n1   \n",
       "\n",
       "                                                  metadata  \n",
       "index                                                       \n",
       "0        {'Brutto-formula': 'C24H33NO3', 'Molecular wei...  \n",
       "1        {'Brutto-formula': 'C18H15ClN2O3', 'Molecular ...  \n",
       "2        {'Brutto-formula': 'C23H17N3OS', 'Molecular we...  \n",
       "3        {'Brutto-formula': 'C24H24N6O2', 'Molecular we...  \n",
       "4        {'Brutto-formula': 'C15H15NO4S', 'Molecular we...  \n",
       "...                                                    ...  \n",
       "1269944  {'Brutto-formula': 'C12H16N4O', 'Molecular wei...  \n",
       "1269945  {'Brutto-formula': 'C14H17N3O', 'Molecular wei...  \n",
       "1269946  {'Brutto-formula': 'C13H22N4O', 'Molecular wei...  \n",
       "1269947  {'Brutto-formula': 'C25H33N3O2', 'Molecular we...  \n",
       "1269948  {'Brutto-formula': 'C25H29N5O', 'Molecular wei...  \n",
       "\n",
       "[1269943 rows x 2 columns]"
      ]
     },
     "execution_count": 16,
     "metadata": {},
     "output_type": "execute_result"
    }
   ],
   "source": [
    "df"
   ]
  },
  {
   "cell_type": "code",
   "execution_count": 28,
   "metadata": {},
   "outputs": [],
   "source": [
    "import json\n",
    "def add_json_data_to_df(df, json_file_path, prefix):\n",
    "    with open(json_file_path, 'r') as f:\n",
    "        json_data = json.load(f)\n",
    "    \n",
    "    json_df = pd.DataFrame(json_data)\n",
    "    json_df = json_df.add_prefix(prefix + '_')\n",
    "    \n",
    "    df = pd.concat([df, json_df], axis=1)\n",
    "    return df "
   ]
  },
  {
   "cell_type": "code",
   "execution_count": 29,
   "metadata": {},
   "outputs": [],
   "source": [
    "tmp_df = add_json_data_to_df(df, \"/home/i_golov/Screening_project/WELP-PLAPT/105M_FPT.json\",\"105M_FPT\")"
   ]
  },
  {
   "cell_type": "code",
   "execution_count": 31,
   "metadata": {},
   "outputs": [],
   "source": [
    "tmp_df_1 = add_json_data_to_df(tmp_df, \"/home/i_golov/Screening_project/WELP-PLAPT/6VKV_GAG.json\",\"6VKV_GAG\")"
   ]
  },
  {
   "cell_type": "code",
   "execution_count": 32,
   "metadata": {},
   "outputs": [],
   "source": [
    "tmp_df_2 = add_json_data_to_df(tmp_df_1, \"/home/i_golov/Screening_project/WELP-PLAPT/7L5E_XPO1.json\",\"7L5E_XPO1\")"
   ]
  },
  {
   "cell_type": "code",
   "execution_count": 33,
   "metadata": {},
   "outputs": [],
   "source": [
    "tmp_df_3 = add_json_data_to_df(tmp_df_2, \"/home/i_golov/Screening_project/WELP-PLAPT/8QYR_MYH7.json\",\"8QYR_MYH7\")"
   ]
  },
  {
   "cell_type": "code",
   "execution_count": 35,
   "metadata": {},
   "outputs": [],
   "source": [
    "tmp_df_3.to_csv('screening_results.csv')"
   ]
  },
  {
   "cell_type": "code",
   "execution_count": 36,
   "metadata": {},
   "outputs": [],
   "source": [
    "test = pd.read_csv('screening_results.csv')"
   ]
  }
 ],
 "metadata": {
  "kernelspec": {
   "display_name": "chemdiv-screening-project-ubgft5hy-py3.11",
   "language": "python",
   "name": "python3"
  },
  "language_info": {
   "codemirror_mode": {
    "name": "ipython",
    "version": 3
   },
   "file_extension": ".py",
   "mimetype": "text/x-python",
   "name": "python",
   "nbconvert_exporter": "python",
   "pygments_lexer": "ipython3",
   "version": "3.11.10"
  }
 },
 "nbformat": 4,
 "nbformat_minor": 2
}
