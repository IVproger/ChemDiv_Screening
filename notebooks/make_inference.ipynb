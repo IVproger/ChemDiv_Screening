{
 "cells": [
  {
   "cell_type": "code",
   "execution_count": 1,
   "metadata": {},
   "outputs": [],
   "source": [
    "import pandas as pd\n",
    "import numpy as np"
   ]
  },
  {
   "cell_type": "code",
   "execution_count": 2,
   "metadata": {},
   "outputs": [],
   "source": [
    "df = pd.read_parquet(\"../data/screening_data/ligand_embeddings.parquet\")"
   ]
  },
  {
   "cell_type": "code",
   "execution_count": 3,
   "metadata": {},
   "outputs": [
    {
     "data": {
      "text/html": [
       "<div>\n",
       "<style scoped>\n",
       "    .dataframe tbody tr th:only-of-type {\n",
       "        vertical-align: middle;\n",
       "    }\n",
       "\n",
       "    .dataframe tbody tr th {\n",
       "        vertical-align: top;\n",
       "    }\n",
       "\n",
       "    .dataframe thead th {\n",
       "        text-align: right;\n",
       "    }\n",
       "</style>\n",
       "<table border=\"1\" class=\"dataframe\">\n",
       "  <thead>\n",
       "    <tr style=\"text-align: right;\">\n",
       "      <th></th>\n",
       "      <th>ID</th>\n",
       "      <th>encoding</th>\n",
       "    </tr>\n",
       "  </thead>\n",
       "  <tbody>\n",
       "    <tr>\n",
       "      <th>0</th>\n",
       "      <td>CCCOc1ccc(C(O)(CC)C(CN2CCOCC2)c2ccccc2)cc1</td>\n",
       "      <td>[0.4631887376308441, 1.1496385335922241, -0.16...</td>\n",
       "    </tr>\n",
       "    <tr>\n",
       "      <th>1</th>\n",
       "      <td>Cc1cccc(N2C(=O)C(Cl)=C(Nc3ccccc3O)C2=O)c1C</td>\n",
       "      <td>[0.3505532741546631, 0.6738343238830566, 0.027...</td>\n",
       "    </tr>\n",
       "    <tr>\n",
       "      <th>2</th>\n",
       "      <td>O=C(Cc1cccs1)Nc1cccc(-c2nc3cc4ccccc4cc3[nH]2)c1</td>\n",
       "      <td>[0.2411477416753769, -0.02009040117263794, -0....</td>\n",
       "    </tr>\n",
       "    <tr>\n",
       "      <th>3</th>\n",
       "      <td>Cn1ncc(N2CCC(C(=O)Nc3cccc(-c4nc5ccccc5[nH]4)c3...</td>\n",
       "      <td>[0.20003139972686768, -0.06338706612586975, -0...</td>\n",
       "    </tr>\n",
       "    <tr>\n",
       "      <th>4</th>\n",
       "      <td>CCOC(=O)c1c(N2C(=O)C=CC2=O)sc2c1CCCC2</td>\n",
       "      <td>[0.6468941569328308, 0.5003923773765564, 0.236...</td>\n",
       "    </tr>\n",
       "    <tr>\n",
       "      <th>...</th>\n",
       "      <td>...</td>\n",
       "      <td>...</td>\n",
       "    </tr>\n",
       "    <tr>\n",
       "      <th>1269938</th>\n",
       "      <td>CCCN(C)c1ccc2ncc(=O)n(C)c2n1</td>\n",
       "      <td>[0.6567842960357666, 0.25491511821746826, -0.2...</td>\n",
       "    </tr>\n",
       "    <tr>\n",
       "      <th>1269939</th>\n",
       "      <td>CN(C)C(=O)c1cc(N(C)C)nc2ccccc12</td>\n",
       "      <td>[0.9823178052902222, 0.6226070523262024, -0.19...</td>\n",
       "    </tr>\n",
       "    <tr>\n",
       "      <th>1269940</th>\n",
       "      <td>CCN1CCN(C(=O)c2cc(C(C)C)n[nH]2)CC1</td>\n",
       "      <td>[0.423491895198822, 0.19044129550457, 0.111522...</td>\n",
       "    </tr>\n",
       "    <tr>\n",
       "      <th>1269941</th>\n",
       "      <td>O=C(c1ccccc1)N1CC(c2ncco2)C2(CCN(CC3CCCCC3)CC2)C1</td>\n",
       "      <td>[0.567745566368103, 0.27047884464263916, -0.18...</td>\n",
       "    </tr>\n",
       "    <tr>\n",
       "      <th>1269942</th>\n",
       "      <td>Cc1ncc(C(=O)NCc2ccccc2)c(C2CCN(CCc3cccnc3)CC2)n1</td>\n",
       "      <td>[0.8176042437553406, 0.11921020597219467, -0.7...</td>\n",
       "    </tr>\n",
       "  </tbody>\n",
       "</table>\n",
       "<p>1269943 rows × 2 columns</p>\n",
       "</div>"
      ],
      "text/plain": [
       "                                                        ID   \n",
       "0               CCCOc1ccc(C(O)(CC)C(CN2CCOCC2)c2ccccc2)cc1  \\\n",
       "1               Cc1cccc(N2C(=O)C(Cl)=C(Nc3ccccc3O)C2=O)c1C   \n",
       "2          O=C(Cc1cccs1)Nc1cccc(-c2nc3cc4ccccc4cc3[nH]2)c1   \n",
       "3        Cn1ncc(N2CCC(C(=O)Nc3cccc(-c4nc5ccccc5[nH]4)c3...   \n",
       "4                    CCOC(=O)c1c(N2C(=O)C=CC2=O)sc2c1CCCC2   \n",
       "...                                                    ...   \n",
       "1269938                       CCCN(C)c1ccc2ncc(=O)n(C)c2n1   \n",
       "1269939                    CN(C)C(=O)c1cc(N(C)C)nc2ccccc12   \n",
       "1269940                 CCN1CCN(C(=O)c2cc(C(C)C)n[nH]2)CC1   \n",
       "1269941  O=C(c1ccccc1)N1CC(c2ncco2)C2(CCN(CC3CCCCC3)CC2)C1   \n",
       "1269942   Cc1ncc(C(=O)NCc2ccccc2)c(C2CCN(CCc3cccnc3)CC2)n1   \n",
       "\n",
       "                                                  encoding  \n",
       "0        [0.4631887376308441, 1.1496385335922241, -0.16...  \n",
       "1        [0.3505532741546631, 0.6738343238830566, 0.027...  \n",
       "2        [0.2411477416753769, -0.02009040117263794, -0....  \n",
       "3        [0.20003139972686768, -0.06338706612586975, -0...  \n",
       "4        [0.6468941569328308, 0.5003923773765564, 0.236...  \n",
       "...                                                    ...  \n",
       "1269938  [0.6567842960357666, 0.25491511821746826, -0.2...  \n",
       "1269939  [0.9823178052902222, 0.6226070523262024, -0.19...  \n",
       "1269940  [0.423491895198822, 0.19044129550457, 0.111522...  \n",
       "1269941  [0.567745566368103, 0.27047884464263916, -0.18...  \n",
       "1269942  [0.8176042437553406, 0.11921020597219467, -0.7...  \n",
       "\n",
       "[1269943 rows x 2 columns]"
      ]
     },
     "execution_count": 3,
     "metadata": {},
     "output_type": "execute_result"
    }
   ],
   "source": [
    "df"
   ]
  },
  {
   "cell_type": "code",
   "execution_count": 4,
   "metadata": {},
   "outputs": [],
   "source": [
    "import torch\n",
    "from torch import tensor\n",
    "from torch.utils.data import DataLoader,TensorDataset"
   ]
  },
  {
   "cell_type": "code",
   "execution_count": 5,
   "metadata": {},
   "outputs": [],
   "source": [
    "def create_tensor_dataset(df, mol_col, batch_size=1024):\n",
    "    # Make Tensors\n",
    "    mol_tensor = torch.tensor(np.array(df[mol_col].tolist())).to(torch.float32)\n",
    "    \n",
    "    # Create TensorDataset\n",
    "    dataset = TensorDataset(mol_tensor)\n",
    "    \n",
    "    # Create DataLoader\n",
    "    dataloader = DataLoader(dataset, batch_size=batch_size, shuffle=True)\n",
    "    \n",
    "    return dataloader"
   ]
  },
  {
   "cell_type": "code",
   "execution_count": 6,
   "metadata": {},
   "outputs": [],
   "source": [
    "data_loader = create_tensor_dataset(df, mol_col='encoding')"
   ]
  },
  {
   "cell_type": "code",
   "execution_count": 7,
   "metadata": {},
   "outputs": [],
   "source": [
    "batch = next(iter(data_loader))"
   ]
  },
  {
   "cell_type": "code",
   "execution_count": 8,
   "metadata": {},
   "outputs": [],
   "source": [
    "import torch\n",
    "import torch.nn as nn\n",
    "import torch.nn.functional as F\n",
    "\n",
    "class resBlock(nn.Module):\n",
    "    def __init__(self, in_channels, out_channels, use_conv1=False, strides=1, dropout=0.4):\n",
    "        super().__init__()\n",
    "        \n",
    "        self.process = nn.Sequential(\n",
    "            nn.Conv1d(in_channels, out_channels, kernel_size=3, stride=strides, padding=1),\n",
    "            nn.BatchNorm1d(out_channels),\n",
    "            nn.ReLU(inplace=True),\n",
    "            nn.Dropout(p=dropout),\n",
    "            nn.Conv1d(out_channels, out_channels, kernel_size=3, padding=1),\n",
    "            nn.BatchNorm1d(out_channels)\n",
    "        )\n",
    "        \n",
    "        if use_conv1:\n",
    "            self.conv1 = nn.Conv1d(in_channels, out_channels, kernel_size=1, stride=strides)\n",
    "        else:\n",
    "            self.conv1 = None\n",
    "        \n",
    "    def forward(self, x):\n",
    "        left = self.process(x)\n",
    "        right = x if self.conv1 is None else self.conv1(x)\n",
    "        \n",
    "        return F.relu(left + right)\n",
    "\n",
    "class cnnModule(nn.Module):\n",
    "    def __init__(self, in_channel, out_channel, hidden_channel=128, dropout=0.4):\n",
    "        super().__init__()\n",
    "        \n",
    "        self.head = nn.Sequential(\n",
    "            nn.Conv1d(in_channel, hidden_channel, 7, stride=2, padding=3, bias=False),\n",
    "            nn.BatchNorm1d(hidden_channel),\n",
    "            nn.ReLU(inplace=True),\n",
    "            nn.Dropout(p=dropout),\n",
    "            nn.MaxPool1d(2)\n",
    "        )\n",
    "        \n",
    "        self.cnn = nn.Sequential(\n",
    "            resBlock(hidden_channel, out_channel, use_conv1=True, strides=1),\n",
    "            resBlock(out_channel, out_channel, strides=1),\n",
    "            resBlock(out_channel, out_channel, strides=1)\n",
    "        )\n",
    "    \n",
    "    def forward(self, x):\n",
    "        x = self.head(x)\n",
    "        x = self.cnn(x)\n",
    "        \n",
    "        return x\n",
    "\n",
    "class DeepLPI(nn.Module):\n",
    "    def __init__(self, molshape, seqshape, dropout=0.4):\n",
    "        super().__init__()\n",
    "        \n",
    "        self.molshape = molshape\n",
    "        self.seqshape = seqshape\n",
    "\n",
    "        self.molcnn = cnnModule(1, 64)  # Adjusted out_channel\n",
    "        self.seqcnn = cnnModule(1, 64)  # Adjusted out_channel\n",
    "        \n",
    "        self.pool = nn.AvgPool1d(5, stride=3)\n",
    "        self.lstm = nn.LSTM(64, 64, num_layers=3, batch_first=True, bidirectional=True)  # Adjusted hidden size and num_layers\n",
    "        \n",
    "        self.mlp = nn.Sequential(\n",
    "            nn.Linear(round(((molshape + seqshape) / 4 - 2) * 2 / 3) * 64, 4096),  # Adjusted hidden units\n",
    "            nn.BatchNorm1d(4096),\n",
    "            nn.ReLU(),\n",
    "            nn.Dropout(p=dropout),\n",
    "            \n",
    "            nn.Linear(4096, 2048),  # Adjusted hidden units\n",
    "            nn.BatchNorm1d(2048),\n",
    "            nn.ReLU(),\n",
    "            nn.Dropout(p=0.3),\n",
    "            \n",
    "            nn.Linear(2048, 512),  # Adjusted hidden units\n",
    "            nn.BatchNorm1d(512),\n",
    "            nn.ReLU(),\n",
    "            nn.Dropout(p=0.3),\n",
    "            \n",
    "            nn.Linear(512, 1),\n",
    "        )\n",
    "\n",
    "    def forward(self, mol, seq):\n",
    "        mol = self.molcnn(mol.reshape(-1, 1, self.molshape))\n",
    "        seq = self.seqcnn(seq.reshape(-1, 1, self.seqshape))\n",
    "        \n",
    "        # Concatenate along the sequence dimension\n",
    "        x = torch.cat((mol, seq), 2)\n",
    "        x = self.pool(x)\n",
    "        \n",
    "        # Reshape for LSTM\n",
    "        batch_size = x.size(0)\n",
    "        x = x.reshape(batch_size, -1, 64)\n",
    "        x, _ = self.lstm(x)\n",
    "        \n",
    "        # Fully connected layer\n",
    "        x = self.mlp(x.flatten(1))\n",
    "        \n",
    "        x = x.flatten()\n",
    "        \n",
    "        return x\n",
    "\n",
    "# Example usage\n",
    "molshape = 768\n",
    "seqshape = 320"
   ]
  },
  {
   "cell_type": "code",
   "execution_count": 9,
   "metadata": {},
   "outputs": [],
   "source": [
    "# Load the model parameters\n",
    "save_path = \"../models/production/deeplpi_model_v2.pth\"\n",
    "model = DeepLPI(molshape, seqshape)\n",
    "model.load_state_dict(torch.load(save_path))\n",
    "model = model.to(\"cuda\")"
   ]
  },
  {
   "cell_type": "code",
   "execution_count": 10,
   "metadata": {},
   "outputs": [],
   "source": [
    "import torch\n",
    "import numpy as np\n",
    "from tqdm import tqdm\n",
    "\n",
    "def inference_model(model, dataloader, target_protein):\n",
    "    model.eval()\n",
    "    predictions = []\n",
    "    \n",
    "    with torch.no_grad():\n",
    "        for step, batch in enumerate(tqdm(dataloader, desc=\"Inference Progress\")):\n",
    "            step_mol = batch[0]\n",
    "            step_seq = target_protein\n",
    "            \n",
    "            # Repeat the protein sequence for each molecule in the batch\n",
    "            step_seq = step_seq.unsqueeze(0).repeat(step_mol.size(0), 1)\n",
    "            \n",
    "            step_mol, step_seq = step_mol.to(\"cuda\"), step_seq.to(\"cuda\")\n",
    "            \n",
    "            logits = model(step_mol, step_seq)\n",
    "            \n",
    "            # Apply exponential transformation to convert back to original scale\n",
    "            preds = torch.exp(logits) - 1\n",
    "            preds = preds.cpu().numpy()\n",
    "            \n",
    "            predictions.extend(preds)\n",
    "    \n",
    "    return np.array(predictions)"
   ]
  },
  {
   "cell_type": "code",
   "execution_count": 11,
   "metadata": {},
   "outputs": [],
   "source": [
    "# To load the data back\n",
    "target_protein = np.load('../data/proteins/embeddings/6VKV_GAG_embeddings.npy')\n",
    "seq_tensor = torch.tensor(target_protein.tolist()).to(torch.float32)"
   ]
  },
  {
   "cell_type": "code",
   "execution_count": 12,
   "metadata": {},
   "outputs": [
    {
     "name": "stderr",
     "output_type": "stream",
     "text": [
      "Inference Progress: 100%|██████████| 1241/1241 [00:32<00:00, 38.53it/s]\n"
     ]
    }
   ],
   "source": [
    "predictions_6VKV_GAG = inference_model(model=model,dataloader=data_loader,target_protein=seq_tensor)"
   ]
  },
  {
   "cell_type": "code",
   "execution_count": 13,
   "metadata": {},
   "outputs": [],
   "source": [
    "# To load the data back\n",
    "target_protein = np.load('../data/proteins/embeddings/7L5E_XPO1_embeddings.npy')\n",
    "seq_tensor = torch.tensor(target_protein.tolist()).to(torch.float32)"
   ]
  },
  {
   "cell_type": "code",
   "execution_count": 14,
   "metadata": {},
   "outputs": [
    {
     "name": "stderr",
     "output_type": "stream",
     "text": [
      "Inference Progress: 100%|██████████| 1241/1241 [00:29<00:00, 42.33it/s]\n"
     ]
    }
   ],
   "source": [
    "predictions_7L5E_XPO1 = inference_model(model=model,dataloader=data_loader,target_protein=seq_tensor)"
   ]
  },
  {
   "cell_type": "code",
   "execution_count": 15,
   "metadata": {},
   "outputs": [],
   "source": [
    "# To load the data back\n",
    "target_protein = np.load('../data/proteins/embeddings/8QYR_MYH7_embeddings.npy')\n",
    "seq_tensor = torch.tensor(target_protein.tolist()).to(torch.float32)"
   ]
  },
  {
   "cell_type": "code",
   "execution_count": 16,
   "metadata": {},
   "outputs": [
    {
     "name": "stderr",
     "output_type": "stream",
     "text": [
      "Inference Progress: 100%|██████████| 1241/1241 [00:29<00:00, 42.33it/s]\n"
     ]
    }
   ],
   "source": [
    "predictions_8QYR_MYH7 = inference_model(model=model,dataloader=data_loader,target_protein=seq_tensor)"
   ]
  },
  {
   "cell_type": "code",
   "execution_count": 17,
   "metadata": {},
   "outputs": [],
   "source": [
    "# To load the data back\n",
    "target_protein = np.load('../data/proteins/embeddings/105M_FPT_embeddings.npy')\n",
    "seq_tensor = torch.tensor(target_protein.tolist()).to(torch.float32)"
   ]
  },
  {
   "cell_type": "code",
   "execution_count": 18,
   "metadata": {},
   "outputs": [
    {
     "name": "stderr",
     "output_type": "stream",
     "text": [
      "Inference Progress: 100%|██████████| 1241/1241 [00:29<00:00, 42.39it/s]\n"
     ]
    }
   ],
   "source": [
    "predictions_105M_FPT = inference_model(model=model,dataloader=data_loader,target_protein=seq_tensor)"
   ]
  },
  {
   "cell_type": "code",
   "execution_count": 19,
   "metadata": {},
   "outputs": [
    {
     "name": "stdout",
     "output_type": "stream",
     "text": [
      "                                        Ligand_SMILE  Predictions_6VKV_GAG   \n",
      "0         CCCOc1ccc(C(O)(CC)C(CN2CCOCC2)c2ccccc2)cc1             16.940990  \\\n",
      "1         Cc1cccc(N2C(=O)C(Cl)=C(Nc3ccccc3O)C2=O)c1C             10.951564   \n",
      "2    O=C(Cc1cccs1)Nc1cccc(-c2nc3cc4ccccc4cc3[nH]2)c1              1.337074   \n",
      "3  Cn1ncc(N2CCC(C(=O)Nc3cccc(-c4nc5ccccc5[nH]4)c3...             21.190752   \n",
      "4              CCOC(=O)c1c(N2C(=O)C=CC2=O)sc2c1CCCC2              9.321757   \n",
      "\n",
      "   Predictions_7L5E_XPO1  Predictions_8QYR_MYH7  Predictions_105M_FPT  \n",
      "0              20.698540               1.010973              1.212017  \n",
      "1               4.073555              18.035702              4.752003  \n",
      "2               0.888778               8.434605              0.338604  \n",
      "3               3.953398               2.300498              1.069123  \n",
      "4               2.715251              12.506530              0.318364  \n"
     ]
    }
   ],
   "source": [
    "import pandas as pd\n",
    "\n",
    "def create_final_df(smiles_id, predictions_dict):\n",
    "    # Create a DataFrame with the smiles_id\n",
    "    final_df = pd.DataFrame({'Ligand_SMILE': smiles_id})\n",
    "    \n",
    "    # Add each prediction array to the DataFrame\n",
    "    for name, predictions in predictions_dict.items():\n",
    "        final_df[name] = predictions\n",
    "    \n",
    "    return final_df\n",
    "\n",
    "# Example usage\n",
    "smiles_id = df['ID']\n",
    "predictions_dict = {\n",
    "    'Predictions_6VKV_GAG': predictions_6VKV_GAG,\n",
    "    'Predictions_7L5E_XPO1': predictions_7L5E_XPO1,\n",
    "    'Predictions_8QYR_MYH7': predictions_8QYR_MYH7,\n",
    "    'Predictions_105M_FPT': predictions_105M_FPT\n",
    "}\n",
    "\n",
    "final_df = create_final_df(smiles_id, predictions_dict)\n",
    "\n",
    "print(final_df.head())"
   ]
  },
  {
   "cell_type": "code",
   "execution_count": 20,
   "metadata": {},
   "outputs": [],
   "source": [
    "final_df.to_parquet('../data/screening_data/inference_v1/results.parquet')"
   ]
  },
  {
   "cell_type": "code",
   "execution_count": 21,
   "metadata": {},
   "outputs": [
    {
     "data": {
      "text/html": [
       "<div>\n",
       "<style scoped>\n",
       "    .dataframe tbody tr th:only-of-type {\n",
       "        vertical-align: middle;\n",
       "    }\n",
       "\n",
       "    .dataframe tbody tr th {\n",
       "        vertical-align: top;\n",
       "    }\n",
       "\n",
       "    .dataframe thead th {\n",
       "        text-align: right;\n",
       "    }\n",
       "</style>\n",
       "<table border=\"1\" class=\"dataframe\">\n",
       "  <thead>\n",
       "    <tr style=\"text-align: right;\">\n",
       "      <th></th>\n",
       "      <th>Ligand_SMILE</th>\n",
       "      <th>Predictions_6VKV_GAG</th>\n",
       "      <th>Predictions_7L5E_XPO1</th>\n",
       "      <th>Predictions_8QYR_MYH7</th>\n",
       "      <th>Predictions_105M_FPT</th>\n",
       "    </tr>\n",
       "  </thead>\n",
       "  <tbody>\n",
       "    <tr>\n",
       "      <th>0</th>\n",
       "      <td>CCCOc1ccc(C(O)(CC)C(CN2CCOCC2)c2ccccc2)cc1</td>\n",
       "      <td>16.940990</td>\n",
       "      <td>20.698540</td>\n",
       "      <td>1.010973</td>\n",
       "      <td>1.212017</td>\n",
       "    </tr>\n",
       "    <tr>\n",
       "      <th>1</th>\n",
       "      <td>Cc1cccc(N2C(=O)C(Cl)=C(Nc3ccccc3O)C2=O)c1C</td>\n",
       "      <td>10.951564</td>\n",
       "      <td>4.073555</td>\n",
       "      <td>18.035702</td>\n",
       "      <td>4.752003</td>\n",
       "    </tr>\n",
       "    <tr>\n",
       "      <th>2</th>\n",
       "      <td>O=C(Cc1cccs1)Nc1cccc(-c2nc3cc4ccccc4cc3[nH]2)c1</td>\n",
       "      <td>1.337074</td>\n",
       "      <td>0.888778</td>\n",
       "      <td>8.434605</td>\n",
       "      <td>0.338604</td>\n",
       "    </tr>\n",
       "    <tr>\n",
       "      <th>3</th>\n",
       "      <td>Cn1ncc(N2CCC(C(=O)Nc3cccc(-c4nc5ccccc5[nH]4)c3...</td>\n",
       "      <td>21.190752</td>\n",
       "      <td>3.953398</td>\n",
       "      <td>2.300498</td>\n",
       "      <td>1.069123</td>\n",
       "    </tr>\n",
       "    <tr>\n",
       "      <th>4</th>\n",
       "      <td>CCOC(=O)c1c(N2C(=O)C=CC2=O)sc2c1CCCC2</td>\n",
       "      <td>9.321757</td>\n",
       "      <td>2.715251</td>\n",
       "      <td>12.506530</td>\n",
       "      <td>0.318364</td>\n",
       "    </tr>\n",
       "    <tr>\n",
       "      <th>...</th>\n",
       "      <td>...</td>\n",
       "      <td>...</td>\n",
       "      <td>...</td>\n",
       "      <td>...</td>\n",
       "      <td>...</td>\n",
       "    </tr>\n",
       "    <tr>\n",
       "      <th>1269938</th>\n",
       "      <td>CCCN(C)c1ccc2ncc(=O)n(C)c2n1</td>\n",
       "      <td>20.866096</td>\n",
       "      <td>4.209562</td>\n",
       "      <td>1.549488</td>\n",
       "      <td>0.767108</td>\n",
       "    </tr>\n",
       "    <tr>\n",
       "      <th>1269939</th>\n",
       "      <td>CN(C)C(=O)c1cc(N(C)C)nc2ccccc12</td>\n",
       "      <td>29.075506</td>\n",
       "      <td>6.171589</td>\n",
       "      <td>25.340958</td>\n",
       "      <td>1.025443</td>\n",
       "    </tr>\n",
       "    <tr>\n",
       "      <th>1269940</th>\n",
       "      <td>CCN1CCN(C(=O)c2cc(C(C)C)n[nH]2)CC1</td>\n",
       "      <td>16.378925</td>\n",
       "      <td>0.207296</td>\n",
       "      <td>13.468922</td>\n",
       "      <td>0.537754</td>\n",
       "    </tr>\n",
       "    <tr>\n",
       "      <th>1269941</th>\n",
       "      <td>O=C(c1ccccc1)N1CC(c2ncco2)C2(CCN(CC3CCCCC3)CC2)C1</td>\n",
       "      <td>11.630421</td>\n",
       "      <td>4.542598</td>\n",
       "      <td>0.976811</td>\n",
       "      <td>0.635975</td>\n",
       "    </tr>\n",
       "    <tr>\n",
       "      <th>1269942</th>\n",
       "      <td>Cc1ncc(C(=O)NCc2ccccc2)c(C2CCN(CCc3cccnc3)CC2)n1</td>\n",
       "      <td>19.971352</td>\n",
       "      <td>3.969993</td>\n",
       "      <td>0.938525</td>\n",
       "      <td>0.250871</td>\n",
       "    </tr>\n",
       "  </tbody>\n",
       "</table>\n",
       "<p>1269943 rows × 5 columns</p>\n",
       "</div>"
      ],
      "text/plain": [
       "                                              Ligand_SMILE   \n",
       "0               CCCOc1ccc(C(O)(CC)C(CN2CCOCC2)c2ccccc2)cc1  \\\n",
       "1               Cc1cccc(N2C(=O)C(Cl)=C(Nc3ccccc3O)C2=O)c1C   \n",
       "2          O=C(Cc1cccs1)Nc1cccc(-c2nc3cc4ccccc4cc3[nH]2)c1   \n",
       "3        Cn1ncc(N2CCC(C(=O)Nc3cccc(-c4nc5ccccc5[nH]4)c3...   \n",
       "4                    CCOC(=O)c1c(N2C(=O)C=CC2=O)sc2c1CCCC2   \n",
       "...                                                    ...   \n",
       "1269938                       CCCN(C)c1ccc2ncc(=O)n(C)c2n1   \n",
       "1269939                    CN(C)C(=O)c1cc(N(C)C)nc2ccccc12   \n",
       "1269940                 CCN1CCN(C(=O)c2cc(C(C)C)n[nH]2)CC1   \n",
       "1269941  O=C(c1ccccc1)N1CC(c2ncco2)C2(CCN(CC3CCCCC3)CC2)C1   \n",
       "1269942   Cc1ncc(C(=O)NCc2ccccc2)c(C2CCN(CCc3cccnc3)CC2)n1   \n",
       "\n",
       "         Predictions_6VKV_GAG  Predictions_7L5E_XPO1  Predictions_8QYR_MYH7   \n",
       "0                   16.940990              20.698540               1.010973  \\\n",
       "1                   10.951564               4.073555              18.035702   \n",
       "2                    1.337074               0.888778               8.434605   \n",
       "3                   21.190752               3.953398               2.300498   \n",
       "4                    9.321757               2.715251              12.506530   \n",
       "...                       ...                    ...                    ...   \n",
       "1269938             20.866096               4.209562               1.549488   \n",
       "1269939             29.075506               6.171589              25.340958   \n",
       "1269940             16.378925               0.207296              13.468922   \n",
       "1269941             11.630421               4.542598               0.976811   \n",
       "1269942             19.971352               3.969993               0.938525   \n",
       "\n",
       "         Predictions_105M_FPT  \n",
       "0                    1.212017  \n",
       "1                    4.752003  \n",
       "2                    0.338604  \n",
       "3                    1.069123  \n",
       "4                    0.318364  \n",
       "...                       ...  \n",
       "1269938              0.767108  \n",
       "1269939              1.025443  \n",
       "1269940              0.537754  \n",
       "1269941              0.635975  \n",
       "1269942              0.250871  \n",
       "\n",
       "[1269943 rows x 5 columns]"
      ]
     },
     "execution_count": 21,
     "metadata": {},
     "output_type": "execute_result"
    }
   ],
   "source": [
    "final_df"
   ]
  }
 ],
 "metadata": {
  "kernelspec": {
   "display_name": "chemdiv-screening-project-ubgft5hy-py3.11",
   "language": "python",
   "name": "python3"
  },
  "language_info": {
   "codemirror_mode": {
    "name": "ipython",
    "version": 3
   },
   "file_extension": ".py",
   "mimetype": "text/x-python",
   "name": "python",
   "nbconvert_exporter": "python",
   "pygments_lexer": "ipython3",
   "version": "3.11.10"
  }
 },
 "nbformat": 4,
 "nbformat_minor": 2
}
